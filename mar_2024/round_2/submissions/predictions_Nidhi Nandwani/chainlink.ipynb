{
  "cells": [
    {
      "cell_type": "code",
      "execution_count": 2,
      "metadata": {
        "colab": {
          "base_uri": "https://localhost:8080/"
        },
        "id": "S19jleua1_GE",
        "outputId": "b1940400-2ab9-4ab3-8ac2-c7445323cd90"
      },
      "outputs": [
        {
          "output_type": "stream",
          "name": "stdout",
          "text": [
            "3.10.12 (main, Nov 20 2023, 15:14:05) [GCC 11.4.0]\n"
          ]
        }
      ],
      "source": [
        "import sys\n",
        "print(sys.version)"
      ]
    },
    {
      "cell_type": "code",
      "execution_count": 6,
      "metadata": {
        "id": "XGXh32Yl3E5s"
      },
      "outputs": [],
      "source": [
        "# Importing dependencies\n",
        "import yfinance as yf\n",
        "import numpy as np\n",
        "np.random.seed(1)\n",
        "import pandas as pd\n",
        "import matplotlib.pyplot as plt\n",
        "from keras.models import Sequential, load_model\n",
        "from keras.layers import Dense\n",
        "from keras.layers import LSTM\n",
        "from keras import optimizers\n",
        "from keras.callbacks import EarlyStopping\n",
        "from sklearn.preprocessing import MinMaxScaler\n",
        "from sklearn.metrics import mean_squared_error, r2_score\n",
        "from math import sqrt\n",
        "import datetime as dt\n",
        "import time\n",
        "plt.style.use('ggplot')"
      ]
    },
    {
      "cell_type": "markdown",
      "metadata": {
        "id": "u1mE_p_mmINd"
      },
      "source": [
        "### Data Preprocessing"
      ]
    },
    {
      "cell_type": "code",
      "execution_count": 36,
      "metadata": {
        "colab": {
          "base_uri": "https://localhost:8080/",
          "height": 472
        },
        "id": "r5O0a39R9Z_Z",
        "outputId": "f849b4a6-aff5-4299-9933-dad0f3d1d6b8"
      },
      "outputs": [
        {
          "output_type": "stream",
          "name": "stderr",
          "text": [
            "\r[*********************100%%**********************]  1 of 1 completed\n"
          ]
        },
        {
          "output_type": "execute_result",
          "data": {
            "text/plain": [
              "                 Open       High        Low      Close  Adj Close      Volume\n",
              "Date                                                                         \n",
              "2017-11-09   0.216713   0.248233   0.195411   0.223969   0.223969     3347920\n",
              "2017-11-10   0.224700   0.231280   0.180161   0.187602   0.187602     2125460\n",
              "2017-11-11   0.186398   0.197687   0.166026   0.179770   0.179770     2238980\n",
              "2017-11-12   0.179667   0.198376   0.145948   0.170898   0.170898     5455200\n",
              "2017-11-13   0.169117   0.205014   0.168743   0.183071   0.183071     2992650\n",
              "...               ...        ...        ...        ...        ...         ...\n",
              "2024-03-08  20.126860  20.390388  19.321224  19.741352  19.741352   590191572\n",
              "2024-03-09  19.741385  20.343550  19.719904  20.028526  20.028526   414335240\n",
              "2024-03-10  20.028534  21.943203  19.520350  21.754612  21.754612   696612444\n",
              "2024-03-11  21.753538  22.825249  20.967533  21.289614  21.289614  1265727284\n",
              "2024-03-12  21.290363  21.323486  19.749979  20.666775  20.666775   824857503\n",
              "\n",
              "[2316 rows x 6 columns]"
            ],
            "text/html": [
              "\n",
              "  <div id=\"df-85b00fec-a380-445e-b4e2-e55872a8c8d1\" class=\"colab-df-container\">\n",
              "    <div>\n",
              "<style scoped>\n",
              "    .dataframe tbody tr th:only-of-type {\n",
              "        vertical-align: middle;\n",
              "    }\n",
              "\n",
              "    .dataframe tbody tr th {\n",
              "        vertical-align: top;\n",
              "    }\n",
              "\n",
              "    .dataframe thead th {\n",
              "        text-align: right;\n",
              "    }\n",
              "</style>\n",
              "<table border=\"1\" class=\"dataframe\">\n",
              "  <thead>\n",
              "    <tr style=\"text-align: right;\">\n",
              "      <th></th>\n",
              "      <th>Open</th>\n",
              "      <th>High</th>\n",
              "      <th>Low</th>\n",
              "      <th>Close</th>\n",
              "      <th>Adj Close</th>\n",
              "      <th>Volume</th>\n",
              "    </tr>\n",
              "    <tr>\n",
              "      <th>Date</th>\n",
              "      <th></th>\n",
              "      <th></th>\n",
              "      <th></th>\n",
              "      <th></th>\n",
              "      <th></th>\n",
              "      <th></th>\n",
              "    </tr>\n",
              "  </thead>\n",
              "  <tbody>\n",
              "    <tr>\n",
              "      <th>2017-11-09</th>\n",
              "      <td>0.216713</td>\n",
              "      <td>0.248233</td>\n",
              "      <td>0.195411</td>\n",
              "      <td>0.223969</td>\n",
              "      <td>0.223969</td>\n",
              "      <td>3347920</td>\n",
              "    </tr>\n",
              "    <tr>\n",
              "      <th>2017-11-10</th>\n",
              "      <td>0.224700</td>\n",
              "      <td>0.231280</td>\n",
              "      <td>0.180161</td>\n",
              "      <td>0.187602</td>\n",
              "      <td>0.187602</td>\n",
              "      <td>2125460</td>\n",
              "    </tr>\n",
              "    <tr>\n",
              "      <th>2017-11-11</th>\n",
              "      <td>0.186398</td>\n",
              "      <td>0.197687</td>\n",
              "      <td>0.166026</td>\n",
              "      <td>0.179770</td>\n",
              "      <td>0.179770</td>\n",
              "      <td>2238980</td>\n",
              "    </tr>\n",
              "    <tr>\n",
              "      <th>2017-11-12</th>\n",
              "      <td>0.179667</td>\n",
              "      <td>0.198376</td>\n",
              "      <td>0.145948</td>\n",
              "      <td>0.170898</td>\n",
              "      <td>0.170898</td>\n",
              "      <td>5455200</td>\n",
              "    </tr>\n",
              "    <tr>\n",
              "      <th>2017-11-13</th>\n",
              "      <td>0.169117</td>\n",
              "      <td>0.205014</td>\n",
              "      <td>0.168743</td>\n",
              "      <td>0.183071</td>\n",
              "      <td>0.183071</td>\n",
              "      <td>2992650</td>\n",
              "    </tr>\n",
              "    <tr>\n",
              "      <th>...</th>\n",
              "      <td>...</td>\n",
              "      <td>...</td>\n",
              "      <td>...</td>\n",
              "      <td>...</td>\n",
              "      <td>...</td>\n",
              "      <td>...</td>\n",
              "    </tr>\n",
              "    <tr>\n",
              "      <th>2024-03-08</th>\n",
              "      <td>20.126860</td>\n",
              "      <td>20.390388</td>\n",
              "      <td>19.321224</td>\n",
              "      <td>19.741352</td>\n",
              "      <td>19.741352</td>\n",
              "      <td>590191572</td>\n",
              "    </tr>\n",
              "    <tr>\n",
              "      <th>2024-03-09</th>\n",
              "      <td>19.741385</td>\n",
              "      <td>20.343550</td>\n",
              "      <td>19.719904</td>\n",
              "      <td>20.028526</td>\n",
              "      <td>20.028526</td>\n",
              "      <td>414335240</td>\n",
              "    </tr>\n",
              "    <tr>\n",
              "      <th>2024-03-10</th>\n",
              "      <td>20.028534</td>\n",
              "      <td>21.943203</td>\n",
              "      <td>19.520350</td>\n",
              "      <td>21.754612</td>\n",
              "      <td>21.754612</td>\n",
              "      <td>696612444</td>\n",
              "    </tr>\n",
              "    <tr>\n",
              "      <th>2024-03-11</th>\n",
              "      <td>21.753538</td>\n",
              "      <td>22.825249</td>\n",
              "      <td>20.967533</td>\n",
              "      <td>21.289614</td>\n",
              "      <td>21.289614</td>\n",
              "      <td>1265727284</td>\n",
              "    </tr>\n",
              "    <tr>\n",
              "      <th>2024-03-12</th>\n",
              "      <td>21.290363</td>\n",
              "      <td>21.323486</td>\n",
              "      <td>19.749979</td>\n",
              "      <td>20.666775</td>\n",
              "      <td>20.666775</td>\n",
              "      <td>824857503</td>\n",
              "    </tr>\n",
              "  </tbody>\n",
              "</table>\n",
              "<p>2316 rows × 6 columns</p>\n",
              "</div>\n",
              "    <div class=\"colab-df-buttons\">\n",
              "\n",
              "  <div class=\"colab-df-container\">\n",
              "    <button class=\"colab-df-convert\" onclick=\"convertToInteractive('df-85b00fec-a380-445e-b4e2-e55872a8c8d1')\"\n",
              "            title=\"Convert this dataframe to an interactive table.\"\n",
              "            style=\"display:none;\">\n",
              "\n",
              "  <svg xmlns=\"http://www.w3.org/2000/svg\" height=\"24px\" viewBox=\"0 -960 960 960\">\n",
              "    <path d=\"M120-120v-720h720v720H120Zm60-500h600v-160H180v160Zm220 220h160v-160H400v160Zm0 220h160v-160H400v160ZM180-400h160v-160H180v160Zm440 0h160v-160H620v160ZM180-180h160v-160H180v160Zm440 0h160v-160H620v160Z\"/>\n",
              "  </svg>\n",
              "    </button>\n",
              "\n",
              "  <style>\n",
              "    .colab-df-container {\n",
              "      display:flex;\n",
              "      gap: 12px;\n",
              "    }\n",
              "\n",
              "    .colab-df-convert {\n",
              "      background-color: #E8F0FE;\n",
              "      border: none;\n",
              "      border-radius: 50%;\n",
              "      cursor: pointer;\n",
              "      display: none;\n",
              "      fill: #1967D2;\n",
              "      height: 32px;\n",
              "      padding: 0 0 0 0;\n",
              "      width: 32px;\n",
              "    }\n",
              "\n",
              "    .colab-df-convert:hover {\n",
              "      background-color: #E2EBFA;\n",
              "      box-shadow: 0px 1px 2px rgba(60, 64, 67, 0.3), 0px 1px 3px 1px rgba(60, 64, 67, 0.15);\n",
              "      fill: #174EA6;\n",
              "    }\n",
              "\n",
              "    .colab-df-buttons div {\n",
              "      margin-bottom: 4px;\n",
              "    }\n",
              "\n",
              "    [theme=dark] .colab-df-convert {\n",
              "      background-color: #3B4455;\n",
              "      fill: #D2E3FC;\n",
              "    }\n",
              "\n",
              "    [theme=dark] .colab-df-convert:hover {\n",
              "      background-color: #434B5C;\n",
              "      box-shadow: 0px 1px 3px 1px rgba(0, 0, 0, 0.15);\n",
              "      filter: drop-shadow(0px 1px 2px rgba(0, 0, 0, 0.3));\n",
              "      fill: #FFFFFF;\n",
              "    }\n",
              "  </style>\n",
              "\n",
              "    <script>\n",
              "      const buttonEl =\n",
              "        document.querySelector('#df-85b00fec-a380-445e-b4e2-e55872a8c8d1 button.colab-df-convert');\n",
              "      buttonEl.style.display =\n",
              "        google.colab.kernel.accessAllowed ? 'block' : 'none';\n",
              "\n",
              "      async function convertToInteractive(key) {\n",
              "        const element = document.querySelector('#df-85b00fec-a380-445e-b4e2-e55872a8c8d1');\n",
              "        const dataTable =\n",
              "          await google.colab.kernel.invokeFunction('convertToInteractive',\n",
              "                                                    [key], {});\n",
              "        if (!dataTable) return;\n",
              "\n",
              "        const docLinkHtml = 'Like what you see? Visit the ' +\n",
              "          '<a target=\"_blank\" href=https://colab.research.google.com/notebooks/data_table.ipynb>data table notebook</a>'\n",
              "          + ' to learn more about interactive tables.';\n",
              "        element.innerHTML = '';\n",
              "        dataTable['output_type'] = 'display_data';\n",
              "        await google.colab.output.renderOutput(dataTable, element);\n",
              "        const docLink = document.createElement('div');\n",
              "        docLink.innerHTML = docLinkHtml;\n",
              "        element.appendChild(docLink);\n",
              "      }\n",
              "    </script>\n",
              "  </div>\n",
              "\n",
              "\n",
              "<div id=\"df-a08490f1-3a17-4132-a5d6-ff74b8e1f54b\">\n",
              "  <button class=\"colab-df-quickchart\" onclick=\"quickchart('df-a08490f1-3a17-4132-a5d6-ff74b8e1f54b')\"\n",
              "            title=\"Suggest charts\"\n",
              "            style=\"display:none;\">\n",
              "\n",
              "<svg xmlns=\"http://www.w3.org/2000/svg\" height=\"24px\"viewBox=\"0 0 24 24\"\n",
              "     width=\"24px\">\n",
              "    <g>\n",
              "        <path d=\"M19 3H5c-1.1 0-2 .9-2 2v14c0 1.1.9 2 2 2h14c1.1 0 2-.9 2-2V5c0-1.1-.9-2-2-2zM9 17H7v-7h2v7zm4 0h-2V7h2v10zm4 0h-2v-4h2v4z\"/>\n",
              "    </g>\n",
              "</svg>\n",
              "  </button>\n",
              "\n",
              "<style>\n",
              "  .colab-df-quickchart {\n",
              "      --bg-color: #E8F0FE;\n",
              "      --fill-color: #1967D2;\n",
              "      --hover-bg-color: #E2EBFA;\n",
              "      --hover-fill-color: #174EA6;\n",
              "      --disabled-fill-color: #AAA;\n",
              "      --disabled-bg-color: #DDD;\n",
              "  }\n",
              "\n",
              "  [theme=dark] .colab-df-quickchart {\n",
              "      --bg-color: #3B4455;\n",
              "      --fill-color: #D2E3FC;\n",
              "      --hover-bg-color: #434B5C;\n",
              "      --hover-fill-color: #FFFFFF;\n",
              "      --disabled-bg-color: #3B4455;\n",
              "      --disabled-fill-color: #666;\n",
              "  }\n",
              "\n",
              "  .colab-df-quickchart {\n",
              "    background-color: var(--bg-color);\n",
              "    border: none;\n",
              "    border-radius: 50%;\n",
              "    cursor: pointer;\n",
              "    display: none;\n",
              "    fill: var(--fill-color);\n",
              "    height: 32px;\n",
              "    padding: 0;\n",
              "    width: 32px;\n",
              "  }\n",
              "\n",
              "  .colab-df-quickchart:hover {\n",
              "    background-color: var(--hover-bg-color);\n",
              "    box-shadow: 0 1px 2px rgba(60, 64, 67, 0.3), 0 1px 3px 1px rgba(60, 64, 67, 0.15);\n",
              "    fill: var(--button-hover-fill-color);\n",
              "  }\n",
              "\n",
              "  .colab-df-quickchart-complete:disabled,\n",
              "  .colab-df-quickchart-complete:disabled:hover {\n",
              "    background-color: var(--disabled-bg-color);\n",
              "    fill: var(--disabled-fill-color);\n",
              "    box-shadow: none;\n",
              "  }\n",
              "\n",
              "  .colab-df-spinner {\n",
              "    border: 2px solid var(--fill-color);\n",
              "    border-color: transparent;\n",
              "    border-bottom-color: var(--fill-color);\n",
              "    animation:\n",
              "      spin 1s steps(1) infinite;\n",
              "  }\n",
              "\n",
              "  @keyframes spin {\n",
              "    0% {\n",
              "      border-color: transparent;\n",
              "      border-bottom-color: var(--fill-color);\n",
              "      border-left-color: var(--fill-color);\n",
              "    }\n",
              "    20% {\n",
              "      border-color: transparent;\n",
              "      border-left-color: var(--fill-color);\n",
              "      border-top-color: var(--fill-color);\n",
              "    }\n",
              "    30% {\n",
              "      border-color: transparent;\n",
              "      border-left-color: var(--fill-color);\n",
              "      border-top-color: var(--fill-color);\n",
              "      border-right-color: var(--fill-color);\n",
              "    }\n",
              "    40% {\n",
              "      border-color: transparent;\n",
              "      border-right-color: var(--fill-color);\n",
              "      border-top-color: var(--fill-color);\n",
              "    }\n",
              "    60% {\n",
              "      border-color: transparent;\n",
              "      border-right-color: var(--fill-color);\n",
              "    }\n",
              "    80% {\n",
              "      border-color: transparent;\n",
              "      border-right-color: var(--fill-color);\n",
              "      border-bottom-color: var(--fill-color);\n",
              "    }\n",
              "    90% {\n",
              "      border-color: transparent;\n",
              "      border-bottom-color: var(--fill-color);\n",
              "    }\n",
              "  }\n",
              "</style>\n",
              "\n",
              "  <script>\n",
              "    async function quickchart(key) {\n",
              "      const quickchartButtonEl =\n",
              "        document.querySelector('#' + key + ' button');\n",
              "      quickchartButtonEl.disabled = true;  // To prevent multiple clicks.\n",
              "      quickchartButtonEl.classList.add('colab-df-spinner');\n",
              "      try {\n",
              "        const charts = await google.colab.kernel.invokeFunction(\n",
              "            'suggestCharts', [key], {});\n",
              "      } catch (error) {\n",
              "        console.error('Error during call to suggestCharts:', error);\n",
              "      }\n",
              "      quickchartButtonEl.classList.remove('colab-df-spinner');\n",
              "      quickchartButtonEl.classList.add('colab-df-quickchart-complete');\n",
              "    }\n",
              "    (() => {\n",
              "      let quickchartButtonEl =\n",
              "        document.querySelector('#df-a08490f1-3a17-4132-a5d6-ff74b8e1f54b button');\n",
              "      quickchartButtonEl.style.display =\n",
              "        google.colab.kernel.accessAllowed ? 'block' : 'none';\n",
              "    })();\n",
              "  </script>\n",
              "</div>\n",
              "    </div>\n",
              "  </div>\n"
            ],
            "application/vnd.google.colaboratory.intrinsic+json": {
              "type": "dataframe",
              "variable_name": "df",
              "summary": "{\n  \"name\": \"df\",\n  \"rows\": 2316,\n  \"fields\": [\n    {\n      \"column\": \"Date\",\n      \"properties\": {\n        \"dtype\": \"date\",\n        \"min\": \"2017-11-09 00:00:00\",\n        \"max\": \"2024-03-12 00:00:00\",\n        \"num_unique_values\": 2316,\n        \"samples\": [\n          \"2020-05-29 00:00:00\",\n          \"2019-05-11 00:00:00\",\n          \"2018-02-17 00:00:00\"\n        ],\n        \"semantic_type\": \"\",\n        \"description\": \"\"\n      }\n    },\n    {\n      \"column\": \"Open\",\n      \"properties\": {\n        \"dtype\": \"number\",\n        \"std\": 9.540805309865824,\n        \"min\": 0.14735999703407288,\n        \"max\": 52.24768829345703,\n        \"num_unique_values\": 2316,\n        \"samples\": [\n          4.028436183929443,\n          0.6715430021286011,\n          0.6443390250205994\n        ],\n        \"semantic_type\": \"\",\n        \"description\": \"\"\n      }\n    },\n    {\n      \"column\": \"High\",\n      \"properties\": {\n        \"dtype\": \"number\",\n        \"std\": 10.015263893484937,\n        \"min\": 0.1662829965353012,\n        \"max\": 52.8760871887207,\n        \"num_unique_values\": 2316,\n        \"samples\": [\n          4.107283115386963,\n          0.7312359809875488,\n          0.6839010119438171\n        ],\n        \"semantic_type\": \"\",\n        \"description\": \"\"\n      }\n    },\n    {\n      \"column\": \"Low\",\n      \"properties\": {\n        \"dtype\": \"number\",\n        \"std\": 8.997148180984539,\n        \"min\": 0.13796299695968628,\n        \"max\": 46.729217529296875,\n        \"num_unique_values\": 2314,\n        \"samples\": [\n          6.6694159507751465,\n          17.746797561645508,\n          2.4373369216918945\n        ],\n        \"semantic_type\": \"\",\n        \"description\": \"\"\n      }\n    },\n    {\n      \"column\": \"Close\",\n      \"properties\": {\n        \"dtype\": \"number\",\n        \"std\": 9.541632724446728,\n        \"min\": 0.14525499939918518,\n        \"max\": 52.19869613647461,\n        \"num_unique_values\": 2316,\n        \"samples\": [\n          3.9865939617156982,\n          0.6788229942321777,\n          0.6724870204925537\n        ],\n        \"semantic_type\": \"\",\n        \"description\": \"\"\n      }\n    },\n    {\n      \"column\": \"Adj Close\",\n      \"properties\": {\n        \"dtype\": \"number\",\n        \"std\": 9.541632724446728,\n        \"min\": 0.14525499939918518,\n        \"max\": 52.19869613647461,\n        \"num_unique_values\": 2316,\n        \"samples\": [\n          3.9865939617156982,\n          0.6788229942321777,\n          0.6724870204925537\n        ],\n        \"semantic_type\": \"\",\n        \"description\": \"\"\n      }\n    },\n    {\n      \"column\": \"Volume\",\n      \"properties\": {\n        \"dtype\": \"number\",\n        \"std\": 3624850051,\n        \"min\": 398773,\n        \"max\": 170549323809,\n        \"num_unique_values\": 2316,\n        \"samples\": [\n          328730888,\n          17115294,\n          8038940\n        ],\n        \"semantic_type\": \"\",\n        \"description\": \"\"\n      }\n    }\n  ]\n}"
            }
          },
          "metadata": {},
          "execution_count": 36
        }
      ],
      "source": [
        "# Loading the dataset\n",
        "df = pd.DataFrame(data=yf.download('LINK-USD', '2010-01-01', '2024-03-13'))\n",
        "df"
      ]
    },
    {
      "cell_type": "code",
      "execution_count": 37,
      "metadata": {
        "colab": {
          "base_uri": "https://localhost:8080/"
        },
        "id": "2H5Lkte_NgWT",
        "outputId": "34a3ad02-0a06-40fe-dedb-6dd53d377d04"
      },
      "outputs": [
        {
          "output_type": "execute_result",
          "data": {
            "text/plain": [
              "Open         0.995411\n",
              "High         0.997831\n",
              "Low          0.997796\n",
              "Close        1.000000\n",
              "Adj Close    1.000000\n",
              "Volume       0.205734\n",
              "Name: Close, dtype: float64"
            ]
          },
          "metadata": {},
          "execution_count": 37
        }
      ],
      "source": [
        "# Correlation matrix\n",
        "df.corr()['Close']"
      ]
    },
    {
      "cell_type": "code",
      "execution_count": 38,
      "metadata": {
        "colab": {
          "base_uri": "https://localhost:8080/"
        },
        "id": "1anbu_yx3bta",
        "outputId": "ab51a369-63b8-4da4-8ba7-7f73553c8eaf"
      },
      "outputs": [
        {
          "output_type": "stream",
          "name": "stdout",
          "text": [
            "count    2.316000e+03\n",
            "mean     6.723051e+08\n",
            "std      3.624850e+09\n",
            "min      3.987730e+05\n",
            "25%      4.805269e+07\n",
            "50%      3.162488e+08\n",
            "75%      8.007572e+08\n",
            "max      1.705493e+11\n",
            "Name: Volume, dtype: float64\n"
          ]
        }
      ],
      "source": [
        "print(df.describe().Volume)\n",
        "df.drop(df[df['Volume']==0].index, inplace = True) #Dropping rows with volume value 0"
      ]
    },
    {
      "cell_type": "code",
      "execution_count": 39,
      "metadata": {
        "id": "FNioyc6mZUAJ"
      },
      "outputs": [],
      "source": [
        "# Setting up an early stop\n",
        "earlystop = EarlyStopping(monitor='val_loss', min_delta=0.0001, patience=80,  verbose=1, mode='min')\n",
        "callbacks_list = [earlystop]"
      ]
    },
    {
      "cell_type": "code",
      "execution_count": 52,
      "metadata": {
        "id": "zRVEzZ1FXj_p"
      },
      "outputs": [],
      "source": [
        "#Build and train the model\n",
        "def fit_model(train,val,timesteps,batch,epochs):\n",
        "    X_train = []\n",
        "    Y_train = []\n",
        "    X_val = []\n",
        "    Y_val = []\n",
        "\n",
        "    # Loop for training data\n",
        "    for i in range(timesteps,train.shape[0]):\n",
        "        X_train.append(train[i-timesteps:i])\n",
        "        Y_train.append(train[i][0])\n",
        "    X_train,Y_train = np.array(X_train),np.array(Y_train)\n",
        "\n",
        "    # Loop for val data\n",
        "    for i in range(timesteps,val.shape[0]):\n",
        "        X_val.append(val[i-timesteps:i])\n",
        "        Y_val.append(val[i][0])\n",
        "    X_val,Y_val = np.array(X_val),np.array(Y_val)\n",
        "\n",
        "    # Adding Layers to the model\n",
        "    model = Sequential()\n",
        "    model.add(LSTM(X_train.shape[2],input_shape = (X_train.shape[1],X_train.shape[2]),return_sequences = True,\n",
        "                   activation = 'relu'))\n",
        "    model.add(LSTM(units=128, return_sequences=True))\n",
        "    model.add(LSTM(units=64, return_sequences=True))\n",
        "    model.add(LSTM(units=32))\n",
        "    model.add(Dense(units=1))\n",
        "    model.compile(optimizer = 'adam', loss = 'mean_squared_error')\n",
        "    #print(model.summary())\n",
        "\n",
        "    # Training the data\n",
        "    history = model.fit(X_train,Y_train,epochs = epochs,batch_size = batch,validation_data = (X_val, Y_val),verbose = 1,\n",
        "                        shuffle = False, callbacks=callbacks_list)\n",
        "    model.reset_states()\n",
        "    return model, history.history['loss'], history.history['val_loss']\n"
      ]
    },
    {
      "cell_type": "code",
      "execution_count": 41,
      "metadata": {
        "id": "LpwHmJeQJqyI"
      },
      "outputs": [],
      "source": [
        "# Evaluating the model\n",
        "def evaluate_model(model,test,timesteps):\n",
        "    X_test = []\n",
        "    Y_test = []\n",
        "\n",
        "    # Loop for testing data\n",
        "    for i in range(timesteps,test.shape[0]):\n",
        "        X_test.append(test[i-timesteps:i])\n",
        "        Y_test.append(test[i][0])\n",
        "    X_test,Y_test = np.array(X_test),np.array(Y_test)\n",
        "    #print(X_test.shape,Y_test.shape)\n",
        "\n",
        "    # Prediction Time !!!!\n",
        "    Y_hat = model.predict(X_test)\n",
        "    mse = mean_squared_error(Y_test,Y_hat)\n",
        "    rmse = sqrt(mse)\n",
        "    r = r2_score(Y_test,Y_hat)\n",
        "    return mse, rmse, r, Y_test, Y_hat\n",
        ""
      ]
    },
    {
      "cell_type": "code",
      "execution_count": 42,
      "metadata": {
        "id": "pI0q18ajCLx6"
      },
      "outputs": [],
      "source": [
        "# Plotting the predictions\n",
        "def plot_data(Y_test,Y_hat):\n",
        "    plt.plot(Y_test,c = 'r')\n",
        "    plt.plot(Y_hat,c = 'y')\n",
        "    plt.xlabel('Day')\n",
        "    plt.ylabel('Price')\n",
        "    plt.title('Stock Prediction Graph using Multivariate-LSTM model')\n",
        "    plt.legend(['Actual','Predicted'],loc = 'lower right')\n",
        "    plt.show()"
      ]
    },
    {
      "cell_type": "code",
      "execution_count": 43,
      "metadata": {
        "id": "4NeqKRBZZr0Q"
      },
      "outputs": [],
      "source": [
        "# Plotting the training errors\n",
        "def plot_error(train_loss,val_loss):\n",
        "    plt.plot(train_loss,c = 'r')\n",
        "    plt.plot(val_loss,c = 'b')\n",
        "    plt.ylabel('Loss')\n",
        "    plt.legend(['train','val'],loc = 'upper right')\n",
        "    plt.show()"
      ]
    },
    {
      "cell_type": "markdown",
      "metadata": {
        "id": "YKmTpUf5mINj"
      },
      "source": [
        "### Model Building"
      ]
    },
    {
      "cell_type": "code",
      "execution_count": 44,
      "metadata": {
        "colab": {
          "base_uri": "https://localhost:8080/"
        },
        "id": "gAvOMIyjIQO-",
        "outputId": "c04aba6e-29c6-4983-89a2-a24d0abfad16"
      },
      "outputs": [
        {
          "output_type": "stream",
          "name": "stdout",
          "text": [
            "(2316, 3)\n",
            "                Close       High      Volume\n",
            "Date                                        \n",
            "2024-03-08  19.741352  20.390388   590191572\n",
            "2024-03-09  20.028526  20.343550   414335240\n",
            "2024-03-10  21.754612  21.943203   696612444\n",
            "2024-03-11  21.289614  22.825249  1265727284\n",
            "2024-03-12  20.666775  21.323486   824857503\n"
          ]
        }
      ],
      "source": [
        "# Extracting the series\n",
        "series = df[['Close','High','Volume']] # Picking the series with high correlation\n",
        "print(series.shape)\n",
        "print(series.tail())"
      ]
    },
    {
      "cell_type": "code",
      "execution_count": 46,
      "metadata": {
        "colab": {
          "base_uri": "https://localhost:8080/"
        },
        "id": "Tjso-RjNDmbs",
        "outputId": "e2d05817-af40-416b-8479-b839bd20b60a"
      },
      "outputs": [
        {
          "output_type": "stream",
          "name": "stdout",
          "text": [
            "(1149, 3) (730, 3) (437, 3)\n"
          ]
        }
      ],
      "source": [
        "# Train Val Test Split\n",
        "train_start = dt.date(2010,1,1)\n",
        "train_end = dt.date(2020,12,31)\n",
        "train_data = series.loc[train_start:train_end]\n",
        "\n",
        "val_start = dt.date(2021,1,1)\n",
        "val_end = dt.date(2022,12,31)\n",
        "val_data = series.loc[val_start:val_end]\n",
        "\n",
        "test_start = dt.date(2023,1,1)\n",
        "test_end = dt.date(2024,3,13)\n",
        "test_data = series.loc[test_start:test_end]\n",
        "\n",
        "print(train_data.shape,val_data.shape,test_data.shape)"
      ]
    },
    {
      "cell_type": "code",
      "execution_count": 47,
      "metadata": {
        "colab": {
          "base_uri": "https://localhost:8080/"
        },
        "id": "NWXR5oL2ZnY4",
        "outputId": "f5e6338f-49d7-4276-e140-4cf15fbe5f00"
      },
      "outputs": [
        {
          "output_type": "stream",
          "name": "stdout",
          "text": [
            "(1149, 3) (730, 3) (437, 3)\n"
          ]
        }
      ],
      "source": [
        "# Normalisation\n",
        "sc = MinMaxScaler()\n",
        "train = sc.fit_transform(train_data)\n",
        "val = sc.transform(val_data)\n",
        "test = sc.transform(test_data)\n",
        "print(train.shape,val.shape,test.shape)"
      ]
    },
    {
      "cell_type": "code",
      "execution_count": 53,
      "metadata": {
        "id": "0ReEucFKmINk"
      },
      "outputs": [],
      "source": [
        "timesteps = 50\n",
        "batch_size = 64\n",
        "num_epochs = 250"
      ]
    },
    {
      "cell_type": "code",
      "execution_count": 54,
      "metadata": {
        "colab": {
          "base_uri": "https://localhost:8080/",
          "height": 1000
        },
        "id": "o1hx1V8AmINk",
        "outputId": "c86dd9f0-d0e2-461f-9783-0b00b2509cdb"
      },
      "outputs": [
        {
          "output_type": "stream",
          "name": "stdout",
          "text": [
            "Epoch 1/250\n",
            "18/18 [==============================] - 12s 295ms/step - loss: 0.0331 - val_loss: 0.3594\n",
            "Epoch 2/250\n",
            "18/18 [==============================] - 5s 272ms/step - loss: 0.0689 - val_loss: 0.6819\n",
            "Epoch 3/250\n",
            "18/18 [==============================] - 4s 212ms/step - loss: 0.0100 - val_loss: 0.2723\n",
            "Epoch 4/250\n",
            "18/18 [==============================] - 4s 208ms/step - loss: 0.0091 - val_loss: 0.2917\n",
            "Epoch 5/250\n",
            "18/18 [==============================] - 5s 260ms/step - loss: 0.0093 - val_loss: 0.2831\n",
            "Epoch 6/250\n",
            "18/18 [==============================] - 4s 221ms/step - loss: 0.0266 - val_loss: 0.3499\n",
            "Epoch 7/250\n",
            "18/18 [==============================] - 4s 216ms/step - loss: 0.0391 - val_loss: 0.7913\n",
            "Epoch 8/250\n",
            "18/18 [==============================] - 4s 253ms/step - loss: 0.0241 - val_loss: 0.5089\n",
            "Epoch 9/250\n",
            "18/18 [==============================] - 4s 223ms/step - loss: 0.0175 - val_loss: 0.3083\n",
            "Epoch 10/250\n",
            "18/18 [==============================] - 5s 279ms/step - loss: 0.0126 - val_loss: 0.4162\n",
            "Epoch 11/250\n",
            "18/18 [==============================] - 5s 278ms/step - loss: 0.0085 - val_loss: 0.2634\n",
            "Epoch 12/250\n",
            "18/18 [==============================] - 4s 214ms/step - loss: 0.0071 - val_loss: 0.4028\n",
            "Epoch 13/250\n",
            "18/18 [==============================] - 4s 209ms/step - loss: 0.0064 - val_loss: 0.2873\n",
            "Epoch 14/250\n",
            "18/18 [==============================] - 5s 280ms/step - loss: 0.0038 - val_loss: 0.3294\n",
            "Epoch 15/250\n",
            "18/18 [==============================] - 4s 210ms/step - loss: 0.0038 - val_loss: 0.3247\n",
            "Epoch 16/250\n",
            "18/18 [==============================] - 4s 209ms/step - loss: 0.0038 - val_loss: 0.3263\n",
            "Epoch 17/250\n",
            "18/18 [==============================] - 5s 289ms/step - loss: 0.0038 - val_loss: 0.3292\n",
            "Epoch 18/250\n",
            "18/18 [==============================] - 4s 205ms/step - loss: 0.0037 - val_loss: 0.3317\n",
            "Epoch 19/250\n",
            "18/18 [==============================] - 4s 209ms/step - loss: 0.0037 - val_loss: 0.3343\n",
            "Epoch 20/250\n",
            "18/18 [==============================] - 5s 275ms/step - loss: 0.0036 - val_loss: 0.3361\n",
            "Epoch 21/250\n",
            "18/18 [==============================] - 4s 208ms/step - loss: 0.0036 - val_loss: 0.3390\n",
            "Epoch 22/250\n",
            "18/18 [==============================] - 4s 211ms/step - loss: 0.0036 - val_loss: 0.3419\n",
            "Epoch 23/250\n",
            "18/18 [==============================] - 5s 280ms/step - loss: 0.0035 - val_loss: 0.3466\n",
            "Epoch 24/250\n",
            "18/18 [==============================] - 4s 206ms/step - loss: 0.0035 - val_loss: 0.3507\n",
            "Epoch 25/250\n",
            "18/18 [==============================] - 4s 209ms/step - loss: 0.0034 - val_loss: 0.3569\n",
            "Epoch 26/250\n",
            "18/18 [==============================] - 5s 271ms/step - loss: 0.0033 - val_loss: 0.3621\n",
            "Epoch 27/250\n",
            "18/18 [==============================] - 4s 211ms/step - loss: 0.0032 - val_loss: 0.3618\n",
            "Epoch 28/250\n",
            "18/18 [==============================] - 4s 210ms/step - loss: 0.0042 - val_loss: 0.3592\n",
            "Epoch 29/250\n",
            "18/18 [==============================] - 5s 273ms/step - loss: 0.0085 - val_loss: 0.3639\n",
            "Epoch 30/250\n",
            "18/18 [==============================] - 4s 211ms/step - loss: 0.0079 - val_loss: 0.2676\n",
            "Epoch 31/250\n",
            "18/18 [==============================] - 4s 211ms/step - loss: 0.0145 - val_loss: 0.3437\n",
            "Epoch 32/250\n",
            "18/18 [==============================] - 5s 275ms/step - loss: 0.0169 - val_loss: 0.2384\n",
            "Epoch 33/250\n",
            "18/18 [==============================] - 4s 208ms/step - loss: 0.0149 - val_loss: 0.4452\n",
            "Epoch 34/250\n",
            "18/18 [==============================] - 4s 208ms/step - loss: 0.0097 - val_loss: 0.2730\n",
            "Epoch 35/250\n",
            "18/18 [==============================] - 5s 263ms/step - loss: 0.0039 - val_loss: 0.2882\n",
            "Epoch 36/250\n",
            "18/18 [==============================] - 4s 213ms/step - loss: 0.0034 - val_loss: 0.3120\n",
            "Epoch 37/250\n",
            "18/18 [==============================] - 4s 210ms/step - loss: 0.0041 - val_loss: 0.2852\n",
            "Epoch 38/250\n",
            "18/18 [==============================] - 5s 262ms/step - loss: 0.0033 - val_loss: 0.3056\n",
            "Epoch 39/250\n",
            "18/18 [==============================] - 4s 222ms/step - loss: 0.0033 - val_loss: 0.3015\n",
            "Epoch 40/250\n",
            "18/18 [==============================] - 4s 210ms/step - loss: 0.0032 - val_loss: 0.3083\n",
            "Epoch 41/250\n",
            "18/18 [==============================] - 5s 267ms/step - loss: 0.0032 - val_loss: 0.3070\n",
            "Epoch 42/250\n",
            "18/18 [==============================] - 4s 216ms/step - loss: 0.0032 - val_loss: 0.3099\n",
            "Epoch 43/250\n",
            "18/18 [==============================] - 4s 216ms/step - loss: 0.0032 - val_loss: 0.3096\n",
            "Epoch 44/250\n",
            "18/18 [==============================] - 5s 256ms/step - loss: 0.0031 - val_loss: 0.3110\n",
            "Epoch 45/250\n",
            "18/18 [==============================] - 4s 220ms/step - loss: 0.0031 - val_loss: 0.3109\n",
            "Epoch 46/250\n",
            "18/18 [==============================] - 4s 207ms/step - loss: 0.0031 - val_loss: 0.3119\n",
            "Epoch 47/250\n",
            "18/18 [==============================] - 4s 232ms/step - loss: 0.0031 - val_loss: 0.3120\n",
            "Epoch 48/250\n",
            "18/18 [==============================] - 4s 242ms/step - loss: 0.0030 - val_loss: 0.3132\n",
            "Epoch 49/250\n",
            "18/18 [==============================] - 4s 208ms/step - loss: 0.0030 - val_loss: 0.3135\n",
            "Epoch 50/250\n",
            "18/18 [==============================] - 4s 217ms/step - loss: 0.0030 - val_loss: 0.3152\n",
            "Epoch 51/250\n",
            "18/18 [==============================] - 7s 403ms/step - loss: 0.0030 - val_loss: 0.3157\n",
            "Epoch 52/250\n",
            "18/18 [==============================] - 4s 209ms/step - loss: 0.0029 - val_loss: 0.3183\n",
            "Epoch 53/250\n",
            "18/18 [==============================] - 5s 282ms/step - loss: 0.0029 - val_loss: 0.3189\n",
            "Epoch 54/250\n",
            "18/18 [==============================] - 4s 211ms/step - loss: 0.0029 - val_loss: 0.3234\n",
            "Epoch 55/250\n",
            "18/18 [==============================] - 4s 211ms/step - loss: 0.0029 - val_loss: 0.3231\n",
            "Epoch 56/250\n",
            "18/18 [==============================] - 5s 278ms/step - loss: 0.0028 - val_loss: 0.3307\n",
            "Epoch 57/250\n",
            "18/18 [==============================] - 4s 211ms/step - loss: 0.0032 - val_loss: 0.3228\n",
            "Epoch 58/250\n",
            "18/18 [==============================] - 4s 211ms/step - loss: 0.0040 - val_loss: 0.3380\n",
            "Epoch 59/250\n",
            "18/18 [==============================] - 5s 279ms/step - loss: 0.0071 - val_loss: 0.2608\n",
            "Epoch 60/250\n",
            "18/18 [==============================] - 4s 211ms/step - loss: 0.0103 - val_loss: 0.4192\n",
            "Epoch 61/250\n",
            "18/18 [==============================] - 4s 208ms/step - loss: 0.0074 - val_loss: 0.2886\n",
            "Epoch 62/250\n",
            "18/18 [==============================] - 5s 276ms/step - loss: 0.0034 - val_loss: 0.3465\n",
            "Epoch 63/250\n",
            "18/18 [==============================] - 4s 207ms/step - loss: 0.0030 - val_loss: 0.3142\n",
            "Epoch 64/250\n",
            "18/18 [==============================] - 4s 205ms/step - loss: 0.0029 - val_loss: 0.3326\n",
            "Epoch 65/250\n",
            "18/18 [==============================] - 5s 264ms/step - loss: 0.0032 - val_loss: 0.3094\n",
            "Epoch 66/250\n",
            "18/18 [==============================] - 5s 288ms/step - loss: 0.0028 - val_loss: 0.3335\n",
            "Epoch 67/250\n",
            "18/18 [==============================] - 4s 211ms/step - loss: 0.0030 - val_loss: 0.3135\n",
            "Epoch 68/250\n",
            "18/18 [==============================] - 4s 247ms/step - loss: 0.0028 - val_loss: 0.3355\n",
            "Epoch 69/250\n",
            "18/18 [==============================] - 4s 244ms/step - loss: 0.0030 - val_loss: 0.3139\n",
            "Epoch 70/250\n",
            "18/18 [==============================] - 4s 210ms/step - loss: 0.0028 - val_loss: 0.3375\n",
            "Epoch 71/250\n",
            "18/18 [==============================] - 4s 247ms/step - loss: 0.0030 - val_loss: 0.3126\n",
            "Epoch 72/250\n",
            "18/18 [==============================] - 4s 229ms/step - loss: 0.0028 - val_loss: 0.3424\n",
            "Epoch 73/250\n",
            "18/18 [==============================] - 4s 211ms/step - loss: 0.0031 - val_loss: 0.3090\n",
            "Epoch 74/250\n",
            "18/18 [==============================] - 4s 250ms/step - loss: 0.0030 - val_loss: 0.3510\n",
            "Epoch 75/250\n",
            "18/18 [==============================] - 4s 236ms/step - loss: 0.0035 - val_loss: 0.3035\n",
            "Epoch 76/250\n",
            "18/18 [==============================] - 4s 209ms/step - loss: 0.0033 - val_loss: 0.3622\n",
            "Epoch 77/250\n",
            "18/18 [==============================] - 4s 247ms/step - loss: 0.0036 - val_loss: 0.3032\n",
            "Epoch 78/250\n",
            "18/18 [==============================] - 4s 230ms/step - loss: 0.0031 - val_loss: 0.3643\n",
            "Epoch 79/250\n",
            "18/18 [==============================] - 4s 210ms/step - loss: 0.0032 - val_loss: 0.3121\n",
            "Epoch 80/250\n",
            "18/18 [==============================] - 4s 230ms/step - loss: 0.0028 - val_loss: 0.3558\n",
            "Epoch 81/250\n",
            "18/18 [==============================] - 5s 252ms/step - loss: 0.0028 - val_loss: 0.3212\n",
            "Epoch 82/250\n",
            "18/18 [==============================] - 4s 207ms/step - loss: 0.0026 - val_loss: 0.3478\n",
            "Epoch 83/250\n",
            "18/18 [==============================] - 4s 247ms/step - loss: 0.0026 - val_loss: 0.3251\n",
            "Epoch 84/250\n",
            "18/18 [==============================] - 4s 238ms/step - loss: 0.0025 - val_loss: 0.3444\n",
            "Epoch 85/250\n",
            "18/18 [==============================] - 4s 213ms/step - loss: 0.0026 - val_loss: 0.3246\n",
            "Epoch 86/250\n",
            "18/18 [==============================] - 4s 252ms/step - loss: 0.0025 - val_loss: 0.3439\n",
            "Epoch 87/250\n",
            "18/18 [==============================] - 4s 235ms/step - loss: 0.0026 - val_loss: 0.3201\n",
            "Epoch 88/250\n",
            "18/18 [==============================] - 4s 212ms/step - loss: 0.0026 - val_loss: 0.3476\n",
            "Epoch 89/250\n",
            "18/18 [==============================] - 4s 242ms/step - loss: 0.0029 - val_loss: 0.3080\n",
            "Epoch 90/250\n",
            "18/18 [==============================] - 4s 243ms/step - loss: 0.0033 - val_loss: 0.3646\n",
            "Epoch 91/250\n",
            "18/18 [==============================] - 4s 213ms/step - loss: 0.0040 - val_loss: 0.2881\n",
            "Epoch 92/250\n",
            "18/18 [==============================] - 4s 247ms/step - loss: 0.0041 - val_loss: 0.3866\n",
            "Epoch 93/250\n",
            "18/18 [==============================] - 4s 239ms/step - loss: 0.0039 - val_loss: 0.3120\n",
            "Epoch 94/250\n",
            "18/18 [==============================] - 4s 208ms/step - loss: 0.0029 - val_loss: 0.3774\n",
            "Epoch 95/250\n",
            "18/18 [==============================] - 4s 234ms/step - loss: 0.0026 - val_loss: 0.3292\n",
            "Epoch 96/250\n",
            "18/18 [==============================] - 5s 247ms/step - loss: 0.0024 - val_loss: 0.3509\n",
            "Epoch 97/250\n",
            "18/18 [==============================] - 4s 209ms/step - loss: 0.0024 - val_loss: 0.3370\n",
            "Epoch 98/250\n",
            "18/18 [==============================] - 4s 227ms/step - loss: 0.0023 - val_loss: 0.3454\n",
            "Epoch 99/250\n",
            "18/18 [==============================] - 5s 257ms/step - loss: 0.0023 - val_loss: 0.3359\n",
            "Epoch 100/250\n",
            "18/18 [==============================] - 4s 212ms/step - loss: 0.0022 - val_loss: 0.3408\n",
            "Epoch 101/250\n",
            "18/18 [==============================] - 4s 249ms/step - loss: 0.0022 - val_loss: 0.3314\n",
            "Epoch 102/250\n",
            "18/18 [==============================] - 4s 239ms/step - loss: 0.0022 - val_loss: 0.3380\n",
            "Epoch 103/250\n",
            "18/18 [==============================] - 4s 208ms/step - loss: 0.0022 - val_loss: 0.3238\n",
            "Epoch 104/250\n",
            "18/18 [==============================] - 4s 229ms/step - loss: 0.0026 - val_loss: 0.3367\n",
            "Epoch 105/250\n",
            "18/18 [==============================] - 5s 252ms/step - loss: 0.0038 - val_loss: 0.2779\n",
            "Epoch 106/250\n",
            "18/18 [==============================] - 4s 210ms/step - loss: 0.0056 - val_loss: 0.3922\n",
            "Epoch 107/250\n",
            "18/18 [==============================] - 4s 248ms/step - loss: 0.0052 - val_loss: 0.3095\n",
            "Epoch 108/250\n",
            "18/18 [==============================] - 4s 237ms/step - loss: 0.0040 - val_loss: 0.4115\n",
            "Epoch 109/250\n",
            "18/18 [==============================] - 4s 209ms/step - loss: 0.0030 - val_loss: 0.3096\n",
            "Epoch 110/250\n",
            "18/18 [==============================] - 4s 249ms/step - loss: 0.0023 - val_loss: 0.3434\n",
            "Epoch 111/250\n",
            "18/18 [==============================] - 4s 232ms/step - loss: 0.0024 - val_loss: 0.3325\n",
            "Epoch 112/250\n",
            "18/18 [==============================] - 4s 210ms/step - loss: 0.0022 - val_loss: 0.3382\n",
            "Epoch 112: early stopping\n"
          ]
        },
        {
          "output_type": "display_data",
          "data": {
            "text/plain": [
              "<Figure size 640x480 with 1 Axes>"
            ],
            "image/png": "[encoded data removed]"
          },
          "metadata": {}
        }
      ],
      "source": [
        "model,train_error,val_error = fit_model(train,val,timesteps,batch_size,num_epochs)\n",
        "plot_error(train_error,val_error)"
      ]
    },
    {
      "cell_type": "code",
      "execution_count": 55,
      "metadata": {
        "colab": {
          "base_uri": "https://localhost:8080/",
          "height": 546
        },
        "id": "LxskvMT8mINk",
        "outputId": "24f278f0-e054-4c32-d28c-1e3d26a201aa"
      },
      "outputs": [
        {
          "output_type": "stream",
          "name": "stdout",
          "text": [
            "13/13 [==============================] - 3s 46ms/step\n",
            "MSE = 0.03630395139492599\n",
            "RMSE = 0.1905359582727785\n",
            "R-Squared Score = 0.3964036612553302\n"
          ]
        },
        {
          "output_type": "display_data",
          "data": {
            "text/plain": [
              "<Figure size 640x480 with 1 Axes>"
            ],
            "image/png": "[encoded data removed]"
          },
          "metadata": {}
        }
      ],
      "source": [
        "mse, rmse, r2_value,true,predicted = evaluate_model(model,test,timesteps)\n",
        "print('MSE = {}'.format(mse))\n",
        "print('RMSE = {}'.format(rmse))\n",
        "print('R-Squared Score = {}'.format(r2_value))\n",
        "plot_data(true,predicted)"
      ]
    },
    {
      "cell_type": "code",
      "execution_count": 57,
      "metadata": {
        "colab": {
          "base_uri": "https://localhost:8080/"
        },
        "id": "5mJnzFIPCZnw",
        "outputId": "8c247687-bfa0-486d-a8fe-d2683d7f866c"
      },
      "outputs": [
        {
          "output_type": "stream",
          "name": "stderr",
          "text": [
            "/usr/local/lib/python3.10/dist-packages/keras/src/engine/training.py:3103: UserWarning: You are saving your model as an HDF5 file via `model.save()`. This file format is considered legacy. We recommend using instead the native Keras format, e.g. `model.save('my_model.keras')`.\n",
            "  saving_api.save_model(\n"
          ]
        }
      ],
      "source": [
        "# Save a model\n",
        "model.save('MV3-LSTM_50_[40,35]_1e-3_64.h5')\n",
        "#del model # Deletes the model\n",
        "# Load a model\n",
        "model = load_model('MV3-LSTM_50_[40,35]_1e-3_64.h5')"
      ]
    },
    {
      "cell_type": "markdown",
      "metadata": {
        "id": "eT6LHVXCmINl"
      },
      "source": [
        "## Cross-Validation"
      ]
    },
    {
      "cell_type": "code",
      "execution_count": 58,
      "metadata": {
        "id": "2OhRCZsfmINl"
      },
      "outputs": [],
      "source": [
        "# Hyperparameters\n",
        "timesteps = 50\n",
        "batch_size = 64\n",
        "num_epochs = 50"
      ]
    },
    {
      "cell_type": "code",
      "execution_count": 59,
      "metadata": {
        "colab": {
          "base_uri": "https://localhost:8080/"
        },
        "id": "OixhQ1fimINl",
        "outputId": "62a19eb4-b842-46e3-c786-0e6014c98e43"
      },
      "outputs": [
        {
          "output_type": "stream",
          "name": "stdout",
          "text": [
            "(2316, 3)\n",
            "                Close       High      Volume\n",
            "Date                                        \n",
            "2024-03-08  19.741352  20.390388   590191572\n",
            "2024-03-09  20.028526  20.343550   414335240\n",
            "2024-03-10  21.754612  21.943203   696612444\n",
            "2024-03-11  21.289614  22.825249  1265727284\n",
            "2024-03-12  20.666775  21.323486   824857503\n"
          ]
        }
      ],
      "source": [
        "# Extracting the series\n",
        "series = df[['Close','High','Volume']] # Picking the multivariate series\n",
        "print(series.shape)\n",
        "print(series.tail())"
      ]
    },
    {
      "cell_type": "code",
      "execution_count": 60,
      "metadata": {
        "colab": {
          "base_uri": "https://localhost:8080/"
        },
        "id": "x6E-eaE-mINl",
        "outputId": "3e5285c9-e9c2-4687-e3c4-31730f9f9a56"
      },
      "outputs": [
        {
          "output_type": "execute_result",
          "data": {
            "text/plain": [
              "array([[1.51217665e-03, 1.55473939e-03, 1.72920879e-05],\n",
              "       [8.13529291e-04, 1.23311030e-03, 1.01242913e-05],\n",
              "       [6.63068429e-04, 5.95790555e-04, 1.07899068e-05],\n",
              "       ...,\n",
              "       [4.15137914e-01, 4.13147427e-01, 4.08219325e-03],\n",
              "       [4.06204821e-01, 4.29881425e-01, 7.41915266e-03],\n",
              "       [3.94239445e-01, 4.01390285e-01, 4.83414791e-03]])"
            ]
          },
          "metadata": {},
          "execution_count": 60
        }
      ],
      "source": [
        "# Normalisation\n",
        "sc = MinMaxScaler()\n",
        "series = sc.fit_transform(series[:5400])\n",
        "series"
      ]
    },
    {
      "cell_type": "markdown",
      "metadata": {
        "id": "_j9zGzzgmINl"
      },
      "source": [
        "### Split I"
      ]
    },
    {
      "cell_type": "code",
      "execution_count": 61,
      "metadata": {
        "id": "79-iY0FhmINl"
      },
      "outputs": [],
      "source": [
        "#Splitting the data for initial model creation\n",
        "splits = 5\n",
        "split_size = 600\n",
        "train = series[:3*split_size]\n",
        "test = series[3*split_size:4*split_size]"
      ]
    },
    {
      "cell_type": "code",
      "execution_count": 62,
      "metadata": {
        "colab": {
          "base_uri": "https://localhost:8080/",
          "height": 211
        },
        "id": "3Ed5n92lmINm",
        "outputId": "4d7c2ea3-fdd5-4461-8b60-4111fdd41e7e"
      },
      "outputs": [
        {
          "output_type": "error",
          "ename": "TypeError",
          "evalue": "fit_model() missing 1 required positional argument: 'epochs'",
          "traceback": [
            "\u001b[0;31m---------------------------------------------------------------------------\u001b[0m",
            "\u001b[0;31mTypeError\u001b[0m                                 Traceback (most recent call last)",
            "\u001b[0;32m<ipython-input-62-b6278f459b90>\u001b[0m in \u001b[0;36m<cell line: 4>\u001b[0;34m()\u001b[0m\n\u001b[1;32m      2\u001b[0m \u001b[0mtrain_loss\u001b[0m \u001b[0;34m=\u001b[0m \u001b[0mpd\u001b[0m\u001b[0;34m.\u001b[0m\u001b[0mDataFrame\u001b[0m\u001b[0;34m(\u001b[0m\u001b[0;34m)\u001b[0m\u001b[0;34m\u001b[0m\u001b[0;34m\u001b[0m\u001b[0m\n\u001b[1;32m      3\u001b[0m \u001b[0mval_loss\u001b[0m \u001b[0;34m=\u001b[0m \u001b[0mpd\u001b[0m\u001b[0;34m.\u001b[0m\u001b[0mDataFrame\u001b[0m\u001b[0;34m(\u001b[0m\u001b[0;34m)\u001b[0m\u001b[0;34m\u001b[0m\u001b[0;34m\u001b[0m\u001b[0m\n\u001b[0;32m----> 4\u001b[0;31m \u001b[0mmodel\u001b[0m\u001b[0;34m,\u001b[0m\u001b[0mtrain_error\u001b[0m\u001b[0;34m,\u001b[0m\u001b[0mval_error\u001b[0m \u001b[0;34m=\u001b[0m \u001b[0mfit_model\u001b[0m\u001b[0;34m(\u001b[0m\u001b[0mtrain\u001b[0m\u001b[0;34m,\u001b[0m\u001b[0mtimesteps\u001b[0m\u001b[0;34m,\u001b[0m\u001b[0mbatch_size\u001b[0m\u001b[0;34m,\u001b[0m\u001b[0mnum_epochs\u001b[0m\u001b[0;34m)\u001b[0m\u001b[0;34m\u001b[0m\u001b[0;34m\u001b[0m\u001b[0m\n\u001b[0m\u001b[1;32m      5\u001b[0m \u001b[0mtrain_loss\u001b[0m\u001b[0;34m[\u001b[0m\u001b[0;34m'Split1'\u001b[0m\u001b[0;34m]\u001b[0m \u001b[0;34m=\u001b[0m \u001b[0mtrain_error\u001b[0m\u001b[0;34m\u001b[0m\u001b[0;34m\u001b[0m\u001b[0m\n\u001b[1;32m      6\u001b[0m \u001b[0mval_loss\u001b[0m\u001b[0;34m[\u001b[0m\u001b[0;34m'Split1'\u001b[0m\u001b[0;34m]\u001b[0m \u001b[0;34m=\u001b[0m \u001b[0mval_error\u001b[0m\u001b[0;34m\u001b[0m\u001b[0;34m\u001b[0m\u001b[0m\n",
            "\u001b[0;31mTypeError\u001b[0m: fit_model() missing 1 required positional argument: 'epochs'"
          ]
        }
      ],
      "source": [
        "cross_val_results = list()\n",
        "train_loss = pd.DataFrame()\n",
        "val_loss = pd.DataFrame()\n",
        "model,train_error,val_error = fit_model(train,timesteps,batch_size,num_epochs)\n",
        "train_loss['Split1'] = train_error\n",
        "val_loss['Split1'] = val_error\n",
        "mse, rmse, r2_value,true,predicted = evaluate_model(model,test,timesteps)\n",
        "print(\"Split 1\")\n",
        "print('MSE = {}'.format(mse))\n",
        "print('RMSE = {}'.format(rmse))\n",
        "print('R-Squared Score = {}'.format(r2_value))\n",
        "plot_data(true,predicted)\n",
        "cross_val_results.append([mse,rmse,r2_value,0])\n",
        "model.save(\"MV3-LSTM-Split1.h5\")"
      ]
    },
    {
      "cell_type": "markdown",
      "metadata": {
        "id": "4T51kFgDmINm"
      },
      "source": [
        "### Split II"
      ]
    },
    {
      "cell_type": "code",
      "execution_count": 63,
      "metadata": {
        "colab": {
          "base_uri": "https://localhost:8080/",
          "height": 617
        },
        "id": "HSh0sThfmINm",
        "outputId": "4d2ce103-f9f1-469b-a096-b6b9a1373418"
      },
      "outputs": [
        {
          "output_type": "error",
          "ename": "ValueError",
          "evalue": "Expected input data to be non-empty.",
          "traceback": [
            "\u001b[0;31m---------------------------------------------------------------------------\u001b[0m",
            "\u001b[0;31mValueError\u001b[0m                                Traceback (most recent call last)",
            "\u001b[0;32m<ipython-input-63-cf4d08bf3595>\u001b[0m in \u001b[0;36m<cell line: 16>\u001b[0;34m()\u001b[0m\n\u001b[1;32m     14\u001b[0m \u001b[0mtrain_loss\u001b[0m\u001b[0;34m[\u001b[0m\u001b[0;34m\"Split2\"\u001b[0m\u001b[0;34m]\u001b[0m \u001b[0;34m=\u001b[0m \u001b[0mhistory\u001b[0m\u001b[0;34m.\u001b[0m\u001b[0mhistory\u001b[0m\u001b[0;34m[\u001b[0m\u001b[0;34m'loss'\u001b[0m\u001b[0;34m]\u001b[0m\u001b[0;34m\u001b[0m\u001b[0;34m\u001b[0m\u001b[0m\n\u001b[1;32m     15\u001b[0m \u001b[0mval_loss\u001b[0m\u001b[0;34m[\u001b[0m\u001b[0;34m\"Split2\"\u001b[0m\u001b[0;34m]\u001b[0m \u001b[0;34m=\u001b[0m \u001b[0mhistory\u001b[0m\u001b[0;34m.\u001b[0m\u001b[0mhistory\u001b[0m\u001b[0;34m[\u001b[0m\u001b[0;34m'val_loss'\u001b[0m\u001b[0;34m]\u001b[0m\u001b[0;34m\u001b[0m\u001b[0;34m\u001b[0m\u001b[0m\n\u001b[0;32m---> 16\u001b[0;31m \u001b[0mmse\u001b[0m\u001b[0;34m,\u001b[0m \u001b[0mrmse\u001b[0m\u001b[0;34m,\u001b[0m \u001b[0mr2_value\u001b[0m\u001b[0;34m,\u001b[0m\u001b[0mtrue\u001b[0m\u001b[0;34m,\u001b[0m\u001b[0mpredicted\u001b[0m \u001b[0;34m=\u001b[0m \u001b[0mevaluate_model\u001b[0m\u001b[0;34m(\u001b[0m\u001b[0mmodel\u001b[0m\u001b[0;34m,\u001b[0m\u001b[0mtest\u001b[0m\u001b[0;34m,\u001b[0m\u001b[0mtimesteps\u001b[0m\u001b[0;34m)\u001b[0m\u001b[0;34m\u001b[0m\u001b[0;34m\u001b[0m\u001b[0m\n\u001b[0m\u001b[1;32m     17\u001b[0m \u001b[0mprint\u001b[0m\u001b[0;34m(\u001b[0m\u001b[0;34m\"Split 2\"\u001b[0m\u001b[0;34m)\u001b[0m\u001b[0;34m\u001b[0m\u001b[0;34m\u001b[0m\u001b[0m\n\u001b[1;32m     18\u001b[0m \u001b[0mprint\u001b[0m\u001b[0;34m(\u001b[0m\u001b[0;34m'MSE = {}'\u001b[0m\u001b[0;34m.\u001b[0m\u001b[0mformat\u001b[0m\u001b[0;34m(\u001b[0m\u001b[0mmse\u001b[0m\u001b[0;34m)\u001b[0m\u001b[0;34m)\u001b[0m\u001b[0;34m\u001b[0m\u001b[0;34m\u001b[0m\u001b[0m\n",
            "\u001b[0;32m<ipython-input-41-9f8afb3fa413>\u001b[0m in \u001b[0;36mevaluate_model\u001b[0;34m(model, test, timesteps)\u001b[0m\n\u001b[1;32m     12\u001b[0m \u001b[0;34m\u001b[0m\u001b[0m\n\u001b[1;32m     13\u001b[0m     \u001b[0;31m# Prediction Time !!!!\u001b[0m\u001b[0;34m\u001b[0m\u001b[0;34m\u001b[0m\u001b[0m\n\u001b[0;32m---> 14\u001b[0;31m     \u001b[0mY_hat\u001b[0m \u001b[0;34m=\u001b[0m \u001b[0mmodel\u001b[0m\u001b[0;34m.\u001b[0m\u001b[0mpredict\u001b[0m\u001b[0;34m(\u001b[0m\u001b[0mX_test\u001b[0m\u001b[0;34m)\u001b[0m\u001b[0;34m\u001b[0m\u001b[0;34m\u001b[0m\u001b[0m\n\u001b[0m\u001b[1;32m     15\u001b[0m     \u001b[0mmse\u001b[0m \u001b[0;34m=\u001b[0m \u001b[0mmean_squared_error\u001b[0m\u001b[0;34m(\u001b[0m\u001b[0mY_test\u001b[0m\u001b[0;34m,\u001b[0m\u001b[0mY_hat\u001b[0m\u001b[0;34m)\u001b[0m\u001b[0;34m\u001b[0m\u001b[0;34m\u001b[0m\u001b[0m\n\u001b[1;32m     16\u001b[0m     \u001b[0mrmse\u001b[0m \u001b[0;34m=\u001b[0m \u001b[0msqrt\u001b[0m\u001b[0;34m(\u001b[0m\u001b[0mmse\u001b[0m\u001b[0;34m)\u001b[0m\u001b[0;34m\u001b[0m\u001b[0;34m\u001b[0m\u001b[0m\n",
            "\u001b[0;32m/usr/local/lib/python3.10/dist-packages/keras/src/utils/traceback_utils.py\u001b[0m in \u001b[0;36merror_handler\u001b[0;34m(*args, **kwargs)\u001b[0m\n\u001b[1;32m     68\u001b[0m             \u001b[0;31m# To get the full stack trace, call:\u001b[0m\u001b[0;34m\u001b[0m\u001b[0;34m\u001b[0m\u001b[0m\n\u001b[1;32m     69\u001b[0m             \u001b[0;31m# `tf.debugging.disable_traceback_filtering()`\u001b[0m\u001b[0;34m\u001b[0m\u001b[0;34m\u001b[0m\u001b[0m\n\u001b[0;32m---> 70\u001b[0;31m             \u001b[0;32mraise\u001b[0m \u001b[0me\u001b[0m\u001b[0;34m.\u001b[0m\u001b[0mwith_traceback\u001b[0m\u001b[0;34m(\u001b[0m\u001b[0mfiltered_tb\u001b[0m\u001b[0;34m)\u001b[0m \u001b[0;32mfrom\u001b[0m \u001b[0;32mNone\u001b[0m\u001b[0;34m\u001b[0m\u001b[0;34m\u001b[0m\u001b[0m\n\u001b[0m\u001b[1;32m     71\u001b[0m         \u001b[0;32mfinally\u001b[0m\u001b[0;34m:\u001b[0m\u001b[0;34m\u001b[0m\u001b[0;34m\u001b[0m\u001b[0m\n\u001b[1;32m     72\u001b[0m             \u001b[0;32mdel\u001b[0m \u001b[0mfiltered_tb\u001b[0m\u001b[0;34m\u001b[0m\u001b[0;34m\u001b[0m\u001b[0m\n",
            "\u001b[0;32m/usr/local/lib/python3.10/dist-packages/keras/src/engine/data_adapter.py\u001b[0m in \u001b[0;36m__init__\u001b[0;34m(self, x, y, sample_weight, batch_size, steps_per_epoch, initial_epoch, epochs, shuffle, class_weight, max_queue_size, workers, use_multiprocessing, model, steps_per_execution, distribute, pss_evaluation_shards)\u001b[0m\n\u001b[1;32m   1317\u001b[0m \u001b[0;34m\u001b[0m\u001b[0m\n\u001b[1;32m   1318\u001b[0m         \u001b[0;32mif\u001b[0m \u001b[0mself\u001b[0m\u001b[0;34m.\u001b[0m\u001b[0m_inferred_steps\u001b[0m \u001b[0;34m==\u001b[0m \u001b[0;36m0\u001b[0m\u001b[0;34m:\u001b[0m\u001b[0;34m\u001b[0m\u001b[0;34m\u001b[0m\u001b[0m\n\u001b[0;32m-> 1319\u001b[0;31m             \u001b[0;32mraise\u001b[0m \u001b[0mValueError\u001b[0m\u001b[0;34m(\u001b[0m\u001b[0;34m\"Expected input data to be non-empty.\"\u001b[0m\u001b[0;34m)\u001b[0m\u001b[0;34m\u001b[0m\u001b[0;34m\u001b[0m\u001b[0m\n\u001b[0m\u001b[1;32m   1320\u001b[0m \u001b[0;34m\u001b[0m\u001b[0m\n\u001b[1;32m   1321\u001b[0m     def _configure_dataset_and_inferred_steps(\n",
            "\u001b[0;31mValueError\u001b[0m: Expected input data to be non-empty."
          ]
        }
      ],
      "source": [
        "\n",
        "train = series[:4*split_size]\n",
        "test = series[4*split_size:5*split_size]\n",
        "X_train,Y_train = [],[]\n",
        "# Loop for training data\n",
        "for i in range(timesteps,train.shape[0]):\n",
        "    X_train.append(train[i-timesteps:i])\n",
        "    Y_train.append(train[i][0])\n",
        "X_train,Y_train = np.array(X_train),np.array(Y_train)\n",
        "\n",
        "start = time.time()\n",
        "history = model.fit(X_train,Y_train,epochs = num_epochs,batch_size = batch_size,validation_split = 0.2,verbose = 0,\n",
        "                    shuffle = False)\n",
        "end = time.time()\n",
        "train_loss[\"Split2\"] = history.history['loss']\n",
        "val_loss[\"Split2\"] = history.history['val_loss']\n",
        "mse, rmse, r2_value,true,predicted = evaluate_model(model,test,timesteps)\n",
        "print(\"Split 2\")\n",
        "print('MSE = {}'.format(mse))\n",
        "print('RMSE = {}'.format(rmse))\n",
        "print('R-Squared Score = {}'.format(r2_value))\n",
        "plot_data(true,predicted)\n",
        "cross_val_results.append([mse,rmse,r2_value,end-start])\n",
        "model.save(\"MV3-LSTM-Split2.h5\")"
      ]
    },
    {
      "cell_type": "markdown",
      "metadata": {
        "id": "XwG5tTc3mINm"
      },
      "source": [
        "### Split III"
      ]
    },
    {
      "cell_type": "code",
      "execution_count": null,
      "metadata": {
        "id": "aJLDqsOqmINm",
        "outputId": "9071e2f4-0abb-4cd9-d819-c4f9aa733716"
      },
      "outputs": [
        {
          "name": "stdout",
          "output_type": "stream",
          "text": [
            "Split 3\n",
            "MSE = 5.750010686281572e-05\n",
            "RMSE = 0.007582882490373678\n",
            "R-Squared Score = 0.9623244628902942\n"
          ]
        },
        {
          "data": {
            "image/png": "[encoded data removed]",
            "text/plain": [
              "<Figure size 432x288 with 1 Axes>"
            ]
          },
          "metadata": {
            "needs_background": "light"
          },
          "output_type": "display_data"
        }
      ],
      "source": [
        "train = series[:5*split_size]\n",
        "test = series[5*split_size:6*split_size]\n",
        "X_train,Y_train = [],[]\n",
        "# Loop for training data\n",
        "for i in range(timesteps,train.shape[0]):\n",
        "    X_train.append(train[i-timesteps:i])\n",
        "    Y_train.append(train[i][0])\n",
        "X_train,Y_train = np.array(X_train),np.array(Y_train)\n",
        "\n",
        "start = time.time()\n",
        "history = model.fit(X_train,Y_train,epochs = num_epochs,batch_size = batch_size,validation_split = 0.2,verbose = 0,\n",
        "                    shuffle = False)\n",
        "end = time.time()\n",
        "train_loss[\"Split3\"] = history.history['loss']\n",
        "val_loss[\"Split3\"] = history.history['val_loss']\n",
        "mse, rmse, r2_value,true,predicted = evaluate_model(model,test,timesteps)\n",
        "print(\"Split 3\")\n",
        "print('MSE = {}'.format(mse))\n",
        "print('RMSE = {}'.format(rmse))\n",
        "print('R-Squared Score = {}'.format(r2_value))\n",
        "plot_data(true,predicted)\n",
        "cross_val_results.append([mse,rmse,r2_value,end-start])\n",
        "model.save(\"MV3-LSTM-Split3.h5\")"
      ]
    },
    {
      "cell_type": "markdown",
      "metadata": {
        "id": "V4JICyOImINm"
      },
      "source": [
        "### Split IV"
      ]
    },
    {
      "cell_type": "code",
      "execution_count": null,
      "metadata": {
        "id": "PzlHTh_FmINn",
        "outputId": "8b659f5a-cf7f-4c91-8696-9e33cc4768b5"
      },
      "outputs": [
        {
          "name": "stdout",
          "output_type": "stream",
          "text": [
            "Split 4\n",
            "MSE = 0.0003351343181146015\n",
            "RMSE = 0.01830667414126885\n",
            "R-Squared Score = 0.983354736836396\n"
          ]
        },
        {
          "data": {
            "image/png": "[encoded data removed]",
            "text/plain": [
              "<Figure size 432x288 with 1 Axes>"
            ]
          },
          "metadata": {
            "needs_background": "light"
          },
          "output_type": "display_data"
        }
      ],
      "source": [
        "train = series[:6*split_size]\n",
        "test = series[6*split_size:7*split_size]\n",
        "X_train,Y_train = [],[]\n",
        "# Loop for training data\n",
        "for i in range(timesteps,train.shape[0]):\n",
        "    X_train.append(train[i-timesteps:i])\n",
        "    Y_train.append(train[i][0])\n",
        "X_train,Y_train = np.array(X_train),np.array(Y_train)\n",
        "\n",
        "start = time.time()\n",
        "history = model.fit(X_train,Y_train,epochs = num_epochs,batch_size = batch_size,validation_split = 0.2,verbose = 0,\n",
        "                    shuffle = False)\n",
        "end = time.time()\n",
        "train_loss[\"Split4\"] = history.history['loss']\n",
        "val_loss[\"Split4\"] = history.history['val_loss']\n",
        "mse, rmse, r2_value,true,predicted = evaluate_model(model,test,timesteps)\n",
        "print(\"Split 4\")\n",
        "print('MSE = {}'.format(mse))\n",
        "print('RMSE = {}'.format(rmse))\n",
        "print('R-Squared Score = {}'.format(r2_value))\n",
        "plot_data(true,predicted)\n",
        "cross_val_results.append([mse,rmse,r2_value,end-start])\n",
        "model.save(\"MV3-LSTM-Split4.h5\")"
      ]
    },
    {
      "cell_type": "markdown",
      "metadata": {
        "id": "BCz7FF68mINn"
      },
      "source": [
        "### Split V"
      ]
    },
    {
      "cell_type": "code",
      "execution_count": null,
      "metadata": {
        "id": "hgeXIdOqmINn",
        "outputId": "d2b7485a-a1e8-4277-a119-43db2f9a9aff"
      },
      "outputs": [
        {
          "name": "stdout",
          "output_type": "stream",
          "text": [
            "Split 5\n",
            "MSE = 0.0017749325670554344\n",
            "RMSE = 0.04212994857646321\n",
            "R-Squared Score = 0.7975629191961274\n"
          ]
        },
        {
          "data": {
            "image/png": "[encoded data removed]",
            "text/plain": [
              "<Figure size 432x288 with 1 Axes>"
            ]
          },
          "metadata": {
            "needs_background": "light"
          },
          "output_type": "display_data"
        }
      ],
      "source": [
        "train = series[:7*split_size]\n",
        "test = series[7*split_size:8*split_size]\n",
        "X_train,Y_train = [],[]\n",
        "# Loop for training data\n",
        "for i in range(timesteps,train.shape[0]):\n",
        "    X_train.append(train[i-timesteps:i])\n",
        "    Y_train.append(train[i][0])\n",
        "X_train,Y_train = np.array(X_train),np.array(Y_train)\n",
        "\n",
        "start = time.time()\n",
        "history = model.fit(X_train,Y_train,epochs = num_epochs,batch_size = batch_size,validation_split = 0.2,verbose = 0,\n",
        "                    shuffle = False)\n",
        "end = time.time()\n",
        "train_loss[\"Split5\"] = history.history['loss']\n",
        "val_loss[\"Split5\"] = history.history['val_loss']\n",
        "mse, rmse, r2_value,true,predicted = evaluate_model(model,test,timesteps)\n",
        "print(\"Split 5\")\n",
        "print('MSE = {}'.format(mse))\n",
        "print('RMSE = {}'.format(rmse))\n",
        "print('R-Squared Score = {}'.format(r2_value))\n",
        "plot_data(true,predicted)\n",
        "cross_val_results.append([mse,rmse,r2_value,end-start])\n",
        "model.save(\"MV3-LSTM-Split5.h5\")"
      ]
    },
    {
      "cell_type": "code",
      "execution_count": null,
      "metadata": {
        "id": "o00ZXyF5mINn",
        "outputId": "15ea7f26-112f-4e1a-98cf-b80c128c15e2"
      },
      "outputs": [
        {
          "name": "stdout",
          "output_type": "stream",
          "text": [
            "Avg. MSE = 0.0004895794\n",
            "Avg. RMSE = 0.0179982514\n",
            "Avg. R2-score = 0.9214646906\n"
          ]
        }
      ],
      "source": [
        "CV_results = pd.DataFrame(cross_val_results,columns=['MSE','RMSE','R2_Score','Train_Time'])\n",
        "print(\"Avg. MSE = {}\".format(CV_results['MSE'].mean()))\n",
        "print(\"Avg. RMSE = {}\".format(CV_results['RMSE'].mean()))\n",
        "print(\"Avg. R2-score = {}\".format(CV_results['R2_Score'].mean()))"
      ]
    },
    {
      "cell_type": "code",
      "execution_count": null,
      "metadata": {
        "id": "PZd5dSvEmINo"
      },
      "outputs": [],
      "source": [
        "CV_results.to_csv('MV3-LSTM_CrossValidation.csv')\n",
        "train_loss.to_csv('MV3-LSTM_CrossValidation_TrainLoss.csv')\n",
        "val_loss.to_csv('MV3-LSTM_CrossValidation_ValLoss.csv')"
      ]
    }
  ],
  "metadata": {
    "accelerator": "TPU",
    "colab": {
      "provenance": []
    },
    "kernelspec": {
      "display_name": "Python [default]",
      "language": "python",
      "name": "python3"
    },
    "language_info": {
      "codemirror_mode": {
        "name": "ipython",
        "version": 3
      },
      "file_extension": ".py",
      "mimetype": "text/x-python",
      "name": "python",
      "nbconvert_exporter": "python",
      "pygments_lexer": "ipython3",
      "version": "3.6.8"
    }
  },
  "nbformat": 4,
  "nbformat_minor": 0
}