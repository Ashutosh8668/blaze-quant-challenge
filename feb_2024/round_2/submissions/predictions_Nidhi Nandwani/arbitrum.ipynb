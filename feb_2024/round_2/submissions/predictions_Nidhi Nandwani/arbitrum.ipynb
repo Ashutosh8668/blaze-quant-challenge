{
  "cells": [
    {
      "cell_type": "code",
      "execution_count": 1,
      "metadata": {
        "colab": {
          "base_uri": "https://localhost:8080/"
        },
        "id": "S19jleua1_GE",
        "outputId": "0036651f-8de4-4de2-9717-bfc7505e57f1"
      },
      "outputs": [
        {
          "output_type": "stream",
          "name": "stdout",
          "text": [
            "3.10.12 (main, Nov 20 2023, 15:14:05) [GCC 11.4.0]\n"
          ]
        }
      ],
      "source": [
        "import sys\n",
        "print(sys.version)"
      ]
    },
    {
      "cell_type": "code",
      "execution_count": 2,
      "metadata": {
        "id": "XGXh32Yl3E5s"
      },
      "outputs": [],
      "source": [
        "# Importing dependencies\n",
        "import yfinance as yf\n",
        "import numpy as np\n",
        "np.random.seed(1)\n",
        "import pandas as pd\n",
        "import matplotlib.pyplot as plt\n",
        "from keras.models import Sequential, load_model\n",
        "from keras.layers import Dense\n",
        "from keras.layers import LSTM\n",
        "from keras import optimizers\n",
        "from keras.callbacks import EarlyStopping\n",
        "from sklearn.preprocessing import MinMaxScaler\n",
        "from sklearn.metrics import mean_squared_error, r2_score\n",
        "from math import sqrt\n",
        "import datetime as dt\n",
        "import time\n",
        "plt.style.use('ggplot')"
      ]
    },
    {
      "cell_type": "markdown",
      "metadata": {
        "id": "u1mE_p_mmINd"
      },
      "source": [
        "### Data Preprocessing"
      ]
    },
    {
      "cell_type": "code",
      "execution_count": 3,
      "metadata": {
        "colab": {
          "base_uri": "https://localhost:8080/",
          "height": 472
        },
        "id": "r5O0a39R9Z_Z",
        "outputId": "61c8955c-e849-4bdd-bacd-8a40dd0e071c"
      },
      "outputs": [
        {
          "output_type": "stream",
          "name": "stderr",
          "text": [
            "\r[*********************100%%**********************]  1 of 1 completed\n"
          ]
        },
        {
          "output_type": "execute_result",
          "data": {
            "text/plain": [
              "                 Open       High       Low     Close  Adj Close      Volume\n",
              "Date                                                                       \n",
              "2023-03-23  11.796991  11.796991  1.104477  1.331082   1.331082  2314949442\n",
              "2023-03-24   1.325396   1.555872  1.186060  1.272492   1.272492  2537709581\n",
              "2023-03-25   1.272393   1.307232  1.192970  1.224705   1.224705  1294894243\n",
              "2023-03-26   1.224117   1.341853  1.208092  1.283315   1.283315  1059587959\n",
              "2023-03-27   1.282521   1.320275  1.124495  1.162705   1.162705  1014240603\n",
              "...               ...        ...       ...       ...        ...         ...\n",
              "2024-03-08   2.167762   2.276319  2.108739  2.139361   2.139361  1030337086\n",
              "2024-03-09   2.139361   2.166837  2.084038  2.099060   2.099060   514955855\n",
              "2024-03-10   2.099062   2.128248  2.009167  2.068196   2.068196   614574685\n",
              "2024-03-11   2.068202   2.140946  1.992196  2.082959   2.082959   831217688\n",
              "2024-03-12   2.082959   2.096739  1.932373  2.017470   2.017470   762310480\n",
              "\n",
              "[356 rows x 6 columns]"
            ],
            "text/html": [
              "\n",
              "  <div id=\"df-83e91e15-73e1-4b3b-b4ee-f280370f58db\" class=\"colab-df-container\">\n",
              "    <div>\n",
              "<style scoped>\n",
              "    .dataframe tbody tr th:only-of-type {\n",
              "        vertical-align: middle;\n",
              "    }\n",
              "\n",
              "    .dataframe tbody tr th {\n",
              "        vertical-align: top;\n",
              "    }\n",
              "\n",
              "    .dataframe thead th {\n",
              "        text-align: right;\n",
              "    }\n",
              "</style>\n",
              "<table border=\"1\" class=\"dataframe\">\n",
              "  <thead>\n",
              "    <tr style=\"text-align: right;\">\n",
              "      <th></th>\n",
              "      <th>Open</th>\n",
              "      <th>High</th>\n",
              "      <th>Low</th>\n",
              "      <th>Close</th>\n",
              "      <th>Adj Close</th>\n",
              "      <th>Volume</th>\n",
              "    </tr>\n",
              "    <tr>\n",
              "      <th>Date</th>\n",
              "      <th></th>\n",
              "      <th></th>\n",
              "      <th></th>\n",
              "      <th></th>\n",
              "      <th></th>\n",
              "      <th></th>\n",
              "    </tr>\n",
              "  </thead>\n",
              "  <tbody>\n",
              "    <tr>\n",
              "      <th>2023-03-23</th>\n",
              "      <td>11.796991</td>\n",
              "      <td>11.796991</td>\n",
              "      <td>1.104477</td>\n",
              "      <td>1.331082</td>\n",
              "      <td>1.331082</td>\n",
              "      <td>2314949442</td>\n",
              "    </tr>\n",
              "    <tr>\n",
              "      <th>2023-03-24</th>\n",
              "      <td>1.325396</td>\n",
              "      <td>1.555872</td>\n",
              "      <td>1.186060</td>\n",
              "      <td>1.272492</td>\n",
              "      <td>1.272492</td>\n",
              "      <td>2537709581</td>\n",
              "    </tr>\n",
              "    <tr>\n",
              "      <th>2023-03-25</th>\n",
              "      <td>1.272393</td>\n",
              "      <td>1.307232</td>\n",
              "      <td>1.192970</td>\n",
              "      <td>1.224705</td>\n",
              "      <td>1.224705</td>\n",
              "      <td>1294894243</td>\n",
              "    </tr>\n",
              "    <tr>\n",
              "      <th>2023-03-26</th>\n",
              "      <td>1.224117</td>\n",
              "      <td>1.341853</td>\n",
              "      <td>1.208092</td>\n",
              "      <td>1.283315</td>\n",
              "      <td>1.283315</td>\n",
              "      <td>1059587959</td>\n",
              "    </tr>\n",
              "    <tr>\n",
              "      <th>2023-03-27</th>\n",
              "      <td>1.282521</td>\n",
              "      <td>1.320275</td>\n",
              "      <td>1.124495</td>\n",
              "      <td>1.162705</td>\n",
              "      <td>1.162705</td>\n",
              "      <td>1014240603</td>\n",
              "    </tr>\n",
              "    <tr>\n",
              "      <th>...</th>\n",
              "      <td>...</td>\n",
              "      <td>...</td>\n",
              "      <td>...</td>\n",
              "      <td>...</td>\n",
              "      <td>...</td>\n",
              "      <td>...</td>\n",
              "    </tr>\n",
              "    <tr>\n",
              "      <th>2024-03-08</th>\n",
              "      <td>2.167762</td>\n",
              "      <td>2.276319</td>\n",
              "      <td>2.108739</td>\n",
              "      <td>2.139361</td>\n",
              "      <td>2.139361</td>\n",
              "      <td>1030337086</td>\n",
              "    </tr>\n",
              "    <tr>\n",
              "      <th>2024-03-09</th>\n",
              "      <td>2.139361</td>\n",
              "      <td>2.166837</td>\n",
              "      <td>2.084038</td>\n",
              "      <td>2.099060</td>\n",
              "      <td>2.099060</td>\n",
              "      <td>514955855</td>\n",
              "    </tr>\n",
              "    <tr>\n",
              "      <th>2024-03-10</th>\n",
              "      <td>2.099062</td>\n",
              "      <td>2.128248</td>\n",
              "      <td>2.009167</td>\n",
              "      <td>2.068196</td>\n",
              "      <td>2.068196</td>\n",
              "      <td>614574685</td>\n",
              "    </tr>\n",
              "    <tr>\n",
              "      <th>2024-03-11</th>\n",
              "      <td>2.068202</td>\n",
              "      <td>2.140946</td>\n",
              "      <td>1.992196</td>\n",
              "      <td>2.082959</td>\n",
              "      <td>2.082959</td>\n",
              "      <td>831217688</td>\n",
              "    </tr>\n",
              "    <tr>\n",
              "      <th>2024-03-12</th>\n",
              "      <td>2.082959</td>\n",
              "      <td>2.096739</td>\n",
              "      <td>1.932373</td>\n",
              "      <td>2.017470</td>\n",
              "      <td>2.017470</td>\n",
              "      <td>762310480</td>\n",
              "    </tr>\n",
              "  </tbody>\n",
              "</table>\n",
              "<p>356 rows × 6 columns</p>\n",
              "</div>\n",
              "    <div class=\"colab-df-buttons\">\n",
              "\n",
              "  <div class=\"colab-df-container\">\n",
              "    <button class=\"colab-df-convert\" onclick=\"convertToInteractive('df-83e91e15-73e1-4b3b-b4ee-f280370f58db')\"\n",
              "            title=\"Convert this dataframe to an interactive table.\"\n",
              "            style=\"display:none;\">\n",
              "\n",
              "  <svg xmlns=\"http://www.w3.org/2000/svg\" height=\"24px\" viewBox=\"0 -960 960 960\">\n",
              "    <path d=\"M120-120v-720h720v720H120Zm60-500h600v-160H180v160Zm220 220h160v-160H400v160Zm0 220h160v-160H400v160ZM180-400h160v-160H180v160Zm440 0h160v-160H620v160ZM180-180h160v-160H180v160Zm440 0h160v-160H620v160Z\"/>\n",
              "  </svg>\n",
              "    </button>\n",
              "\n",
              "  <style>\n",
              "    .colab-df-container {\n",
              "      display:flex;\n",
              "      gap: 12px;\n",
              "    }\n",
              "\n",
              "    .colab-df-convert {\n",
              "      background-color: #E8F0FE;\n",
              "      border: none;\n",
              "      border-radius: 50%;\n",
              "      cursor: pointer;\n",
              "      display: none;\n",
              "      fill: #1967D2;\n",
              "      height: 32px;\n",
              "      padding: 0 0 0 0;\n",
              "      width: 32px;\n",
              "    }\n",
              "\n",
              "    .colab-df-convert:hover {\n",
              "      background-color: #E2EBFA;\n",
              "      box-shadow: 0px 1px 2px rgba(60, 64, 67, 0.3), 0px 1px 3px 1px rgba(60, 64, 67, 0.15);\n",
              "      fill: #174EA6;\n",
              "    }\n",
              "\n",
              "    .colab-df-buttons div {\n",
              "      margin-bottom: 4px;\n",
              "    }\n",
              "\n",
              "    [theme=dark] .colab-df-convert {\n",
              "      background-color: #3B4455;\n",
              "      fill: #D2E3FC;\n",
              "    }\n",
              "\n",
              "    [theme=dark] .colab-df-convert:hover {\n",
              "      background-color: #434B5C;\n",
              "      box-shadow: 0px 1px 3px 1px rgba(0, 0, 0, 0.15);\n",
              "      filter: drop-shadow(0px 1px 2px rgba(0, 0, 0, 0.3));\n",
              "      fill: #FFFFFF;\n",
              "    }\n",
              "  </style>\n",
              "\n",
              "    <script>\n",
              "      const buttonEl =\n",
              "        document.querySelector('#df-83e91e15-73e1-4b3b-b4ee-f280370f58db button.colab-df-convert');\n",
              "      buttonEl.style.display =\n",
              "        google.colab.kernel.accessAllowed ? 'block' : 'none';\n",
              "\n",
              "      async function convertToInteractive(key) {\n",
              "        const element = document.querySelector('#df-83e91e15-73e1-4b3b-b4ee-f280370f58db');\n",
              "        const dataTable =\n",
              "          await google.colab.kernel.invokeFunction('convertToInteractive',\n",
              "                                                    [key], {});\n",
              "        if (!dataTable) return;\n",
              "\n",
              "        const docLinkHtml = 'Like what you see? Visit the ' +\n",
              "          '<a target=\"_blank\" href=https://colab.research.google.com/notebooks/data_table.ipynb>data table notebook</a>'\n",
              "          + ' to learn more about interactive tables.';\n",
              "        element.innerHTML = '';\n",
              "        dataTable['output_type'] = 'display_data';\n",
              "        await google.colab.output.renderOutput(dataTable, element);\n",
              "        const docLink = document.createElement('div');\n",
              "        docLink.innerHTML = docLinkHtml;\n",
              "        element.appendChild(docLink);\n",
              "      }\n",
              "    </script>\n",
              "  </div>\n",
              "\n",
              "\n",
              "<div id=\"df-e13d4785-3949-48bd-8bc0-74bdd7eafdfd\">\n",
              "  <button class=\"colab-df-quickchart\" onclick=\"quickchart('df-e13d4785-3949-48bd-8bc0-74bdd7eafdfd')\"\n",
              "            title=\"Suggest charts\"\n",
              "            style=\"display:none;\">\n",
              "\n",
              "<svg xmlns=\"http://www.w3.org/2000/svg\" height=\"24px\"viewBox=\"0 0 24 24\"\n",
              "     width=\"24px\">\n",
              "    <g>\n",
              "        <path d=\"M19 3H5c-1.1 0-2 .9-2 2v14c0 1.1.9 2 2 2h14c1.1 0 2-.9 2-2V5c0-1.1-.9-2-2-2zM9 17H7v-7h2v7zm4 0h-2V7h2v10zm4 0h-2v-4h2v4z\"/>\n",
              "    </g>\n",
              "</svg>\n",
              "  </button>\n",
              "\n",
              "<style>\n",
              "  .colab-df-quickchart {\n",
              "      --bg-color: #E8F0FE;\n",
              "      --fill-color: #1967D2;\n",
              "      --hover-bg-color: #E2EBFA;\n",
              "      --hover-fill-color: #174EA6;\n",
              "      --disabled-fill-color: #AAA;\n",
              "      --disabled-bg-color: #DDD;\n",
              "  }\n",
              "\n",
              "  [theme=dark] .colab-df-quickchart {\n",
              "      --bg-color: #3B4455;\n",
              "      --fill-color: #D2E3FC;\n",
              "      --hover-bg-color: #434B5C;\n",
              "      --hover-fill-color: #FFFFFF;\n",
              "      --disabled-bg-color: #3B4455;\n",
              "      --disabled-fill-color: #666;\n",
              "  }\n",
              "\n",
              "  .colab-df-quickchart {\n",
              "    background-color: var(--bg-color);\n",
              "    border: none;\n",
              "    border-radius: 50%;\n",
              "    cursor: pointer;\n",
              "    display: none;\n",
              "    fill: var(--fill-color);\n",
              "    height: 32px;\n",
              "    padding: 0;\n",
              "    width: 32px;\n",
              "  }\n",
              "\n",
              "  .colab-df-quickchart:hover {\n",
              "    background-color: var(--hover-bg-color);\n",
              "    box-shadow: 0 1px 2px rgba(60, 64, 67, 0.3), 0 1px 3px 1px rgba(60, 64, 67, 0.15);\n",
              "    fill: var(--button-hover-fill-color);\n",
              "  }\n",
              "\n",
              "  .colab-df-quickchart-complete:disabled,\n",
              "  .colab-df-quickchart-complete:disabled:hover {\n",
              "    background-color: var(--disabled-bg-color);\n",
              "    fill: var(--disabled-fill-color);\n",
              "    box-shadow: none;\n",
              "  }\n",
              "\n",
              "  .colab-df-spinner {\n",
              "    border: 2px solid var(--fill-color);\n",
              "    border-color: transparent;\n",
              "    border-bottom-color: var(--fill-color);\n",
              "    animation:\n",
              "      spin 1s steps(1) infinite;\n",
              "  }\n",
              "\n",
              "  @keyframes spin {\n",
              "    0% {\n",
              "      border-color: transparent;\n",
              "      border-bottom-color: var(--fill-color);\n",
              "      border-left-color: var(--fill-color);\n",
              "    }\n",
              "    20% {\n",
              "      border-color: transparent;\n",
              "      border-left-color: var(--fill-color);\n",
              "      border-top-color: var(--fill-color);\n",
              "    }\n",
              "    30% {\n",
              "      border-color: transparent;\n",
              "      border-left-color: var(--fill-color);\n",
              "      border-top-color: var(--fill-color);\n",
              "      border-right-color: var(--fill-color);\n",
              "    }\n",
              "    40% {\n",
              "      border-color: transparent;\n",
              "      border-right-color: var(--fill-color);\n",
              "      border-top-color: var(--fill-color);\n",
              "    }\n",
              "    60% {\n",
              "      border-color: transparent;\n",
              "      border-right-color: var(--fill-color);\n",
              "    }\n",
              "    80% {\n",
              "      border-color: transparent;\n",
              "      border-right-color: var(--fill-color);\n",
              "      border-bottom-color: var(--fill-color);\n",
              "    }\n",
              "    90% {\n",
              "      border-color: transparent;\n",
              "      border-bottom-color: var(--fill-color);\n",
              "    }\n",
              "  }\n",
              "</style>\n",
              "\n",
              "  <script>\n",
              "    async function quickchart(key) {\n",
              "      const quickchartButtonEl =\n",
              "        document.querySelector('#' + key + ' button');\n",
              "      quickchartButtonEl.disabled = true;  // To prevent multiple clicks.\n",
              "      quickchartButtonEl.classList.add('colab-df-spinner');\n",
              "      try {\n",
              "        const charts = await google.colab.kernel.invokeFunction(\n",
              "            'suggestCharts', [key], {});\n",
              "      } catch (error) {\n",
              "        console.error('Error during call to suggestCharts:', error);\n",
              "      }\n",
              "      quickchartButtonEl.classList.remove('colab-df-spinner');\n",
              "      quickchartButtonEl.classList.add('colab-df-quickchart-complete');\n",
              "    }\n",
              "    (() => {\n",
              "      let quickchartButtonEl =\n",
              "        document.querySelector('#df-e13d4785-3949-48bd-8bc0-74bdd7eafdfd button');\n",
              "      quickchartButtonEl.style.display =\n",
              "        google.colab.kernel.accessAllowed ? 'block' : 'none';\n",
              "    })();\n",
              "  </script>\n",
              "</div>\n",
              "    </div>\n",
              "  </div>\n"
            ],
            "application/vnd.google.colaboratory.intrinsic+json": {
              "type": "dataframe",
              "variable_name": "df",
              "summary": "{\n  \"name\": \"df\",\n  \"rows\": 356,\n  \"fields\": [\n    {\n      \"column\": \"Date\",\n      \"properties\": {\n        \"dtype\": \"date\",\n        \"min\": \"2023-03-23 00:00:00\",\n        \"max\": \"2024-03-12 00:00:00\",\n        \"num_unique_values\": 356,\n        \"samples\": [\n          \"2023-11-05 00:00:00\",\n          \"2023-05-04 00:00:00\",\n          \"2023-12-04 00:00:00\"\n        ],\n        \"semantic_type\": \"\",\n        \"description\": \"\"\n      }\n    },\n    {\n      \"column\": \"Open\",\n      \"properties\": {\n        \"dtype\": \"number\",\n        \"std\": 0.6717064775925651,\n        \"min\": 0.7610830068588257,\n        \"max\": 11.796991348266602,\n        \"num_unique_values\": 355,\n        \"samples\": [\n          1.0967739820480347,\n          1.3439699411392212,\n          1.1002730131149292\n        ],\n        \"semantic_type\": \"\",\n        \"description\": \"\"\n      }\n    },\n    {\n      \"column\": \"High\",\n      \"properties\": {\n        \"dtype\": \"number\",\n        \"std\": 0.6817499275006805,\n        \"min\": 0.7844979763031006,\n        \"max\": 11.796991348266602,\n        \"num_unique_values\": 356,\n        \"samples\": [\n          1.1104300022125244,\n          1.3603310585021973,\n          1.1449650526046753\n        ],\n        \"semantic_type\": \"\",\n        \"description\": \"\"\n      }\n    },\n    {\n      \"column\": \"Low\",\n      \"properties\": {\n        \"dtype\": \"number\",\n        \"std\": 0.35498042277490954,\n        \"min\": 0.7453410029411316,\n        \"max\": 2.147006034851074,\n        \"num_unique_values\": 356,\n        \"samples\": [\n          1.0667710304260254,\n          1.3130680322647095,\n          1.0695879459381104\n        ],\n        \"semantic_type\": \"\",\n        \"description\": \"\"\n      }\n    },\n    {\n      \"column\": \"Close\",\n      \"properties\": {\n        \"dtype\": \"number\",\n        \"std\": 0.3762170706850335,\n        \"min\": 0.7610599994659424,\n        \"max\": 2.2650198936462402,\n        \"num_unique_values\": 356,\n        \"samples\": [\n          1.0933109521865845,\n          1.3176790475845337,\n          1.0902639627456665\n        ],\n        \"semantic_type\": \"\",\n        \"description\": \"\"\n      }\n    },\n    {\n      \"column\": \"Adj Close\",\n      \"properties\": {\n        \"dtype\": \"number\",\n        \"std\": 0.3762170706850335,\n        \"min\": 0.7610599994659424,\n        \"max\": 2.2650198936462402,\n        \"num_unique_values\": 356,\n        \"samples\": [\n          1.0933109521865845,\n          1.3176790475845337,\n          1.0902639627456665\n        ],\n        \"semantic_type\": \"\",\n        \"description\": \"\"\n      }\n    },\n    {\n      \"column\": \"Volume\",\n      \"properties\": {\n        \"dtype\": \"number\",\n        \"std\": 447211417,\n        \"min\": 44348102,\n        \"max\": 3384321119,\n        \"num_unique_values\": 356,\n        \"samples\": [\n          319369630,\n          283495042,\n          534353041\n        ],\n        \"semantic_type\": \"\",\n        \"description\": \"\"\n      }\n    }\n  ]\n}"
            }
          },
          "metadata": {},
          "execution_count": 3
        }
      ],
      "source": [
        "# Loading the dataset\n",
        "df = pd.DataFrame(data=yf.download('ARB11841-USD', '2010-01-01', '2024-03-13'))\n",
        "df"
      ]
    },
    {
      "cell_type": "code",
      "execution_count": 4,
      "metadata": {
        "colab": {
          "base_uri": "https://localhost:8080/"
        },
        "id": "2H5Lkte_NgWT",
        "outputId": "5762e43d-ec99-4a49-a177-0205c9be61bd"
      },
      "outputs": [
        {
          "output_type": "execute_result",
          "data": {
            "text/plain": [
              "Open         0.556471\n",
              "High         0.583313\n",
              "Low          0.992319\n",
              "Close        1.000000\n",
              "Adj Close    1.000000\n",
              "Volume       0.531807\n",
              "Name: Close, dtype: float64"
            ]
          },
          "metadata": {},
          "execution_count": 4
        }
      ],
      "source": [
        "# Correlation matrix\n",
        "df.corr()['Close']"
      ]
    },
    {
      "cell_type": "code",
      "execution_count": 5,
      "metadata": {
        "colab": {
          "base_uri": "https://localhost:8080/"
        },
        "id": "1anbu_yx3bta",
        "outputId": "2abac7dd-d3ba-4c65-d00a-937332fc12c8"
      },
      "outputs": [
        {
          "output_type": "stream",
          "name": "stdout",
          "text": [
            "count    3.560000e+02\n",
            "mean     4.311695e+08\n",
            "std      4.472114e+08\n",
            "min      4.434810e+07\n",
            "25%      1.566994e+08\n",
            "50%      2.785504e+08\n",
            "75%      5.150854e+08\n",
            "max      3.384321e+09\n",
            "Name: Volume, dtype: float64\n"
          ]
        }
      ],
      "source": [
        "print(df.describe().Volume)\n",
        "df.drop(df[df['Volume']==0].index, inplace = True) #Dropping rows with volume value 0"
      ]
    },
    {
      "cell_type": "code",
      "execution_count": 6,
      "metadata": {
        "id": "FNioyc6mZUAJ"
      },
      "outputs": [],
      "source": [
        "# Setting up an early stop\n",
        "earlystop = EarlyStopping(monitor='val_loss', min_delta=0.0001, patience=80,  verbose=1, mode='min')\n",
        "callbacks_list = [earlystop]"
      ]
    },
    {
      "cell_type": "code",
      "execution_count": 7,
      "metadata": {
        "id": "zRVEzZ1FXj_p"
      },
      "outputs": [],
      "source": [
        "#Build and train the model\n",
        "def fit_model(train,val,timesteps,batch,epochs):\n",
        "    X_train = []\n",
        "    Y_train = []\n",
        "    X_val = []\n",
        "    Y_val = []\n",
        "\n",
        "    # Loop for training data\n",
        "    for i in range(timesteps,train.shape[0]):\n",
        "        X_train.append(train[i-timesteps:i])\n",
        "        Y_train.append(train[i][0])\n",
        "    X_train,Y_train = np.array(X_train),np.array(Y_train)\n",
        "\n",
        "    # Loop for val data\n",
        "    for i in range(timesteps,val.shape[0]):\n",
        "        X_val.append(val[i-timesteps:i])\n",
        "        Y_val.append(val[i][0])\n",
        "    X_val,Y_val = np.array(X_val),np.array(Y_val)\n",
        "\n",
        "    # Adding Layers to the model\n",
        "    model = Sequential()\n",
        "    model.add(LSTM(X_train.shape[2],input_shape = (X_train.shape[1],X_train.shape[2]),return_sequences = True,\n",
        "                   activation = 'relu'))\n",
        "    model.add(LSTM(units=128, return_sequences=True))\n",
        "    model.add(LSTM(units=64, return_sequences=True))\n",
        "    model.add(LSTM(units=32))\n",
        "    model.add(Dense(units=1))\n",
        "    model.compile(optimizer = 'adam', loss = 'mean_squared_error')\n",
        "    #print(model.summary())\n",
        "\n",
        "    # Training the data\n",
        "    history = model.fit(X_train,Y_train,epochs = epochs,batch_size = batch,validation_data = (X_val, Y_val),verbose = 1,\n",
        "                        shuffle = False, callbacks=callbacks_list)\n",
        "    model.reset_states()\n",
        "    return model, history.history['loss'], history.history['val_loss']\n"
      ]
    },
    {
      "cell_type": "code",
      "execution_count": 8,
      "metadata": {
        "id": "LpwHmJeQJqyI"
      },
      "outputs": [],
      "source": [
        "# Evaluating the model\n",
        "def evaluate_model(model,test,timesteps):\n",
        "    X_test = []\n",
        "    Y_test = []\n",
        "\n",
        "    # Loop for testing data\n",
        "    for i in range(timesteps,test.shape[0]):\n",
        "        X_test.append(test[i-timesteps:i])\n",
        "        Y_test.append(test[i][0])\n",
        "    X_test,Y_test = np.array(X_test),np.array(Y_test)\n",
        "    #print(X_test.shape,Y_test.shape)\n",
        "\n",
        "    # Prediction Time !!!!\n",
        "    Y_hat = model.predict(X_test)\n",
        "    mse = mean_squared_error(Y_test,Y_hat)\n",
        "    rmse = sqrt(mse)\n",
        "    r = r2_score(Y_test,Y_hat)\n",
        "    return mse, rmse, r, Y_test, Y_hat\n"
      ]
    },
    {
      "cell_type": "code",
      "execution_count": 9,
      "metadata": {
        "id": "pI0q18ajCLx6"
      },
      "outputs": [],
      "source": [
        "# Plotting the predictions\n",
        "def plot_data(Y_test,Y_hat):\n",
        "    plt.plot(Y_test,c = 'r')\n",
        "    plt.plot(Y_hat,c = 'y')\n",
        "    plt.xlabel('Day')\n",
        "    plt.ylabel('Price')\n",
        "    plt.title('Stock Prediction Graph using Multivariate-LSTM model')\n",
        "    plt.legend(['Actual','Predicted'],loc = 'lower right')\n",
        "    plt.show()"
      ]
    },
    {
      "cell_type": "code",
      "execution_count": 10,
      "metadata": {
        "id": "4NeqKRBZZr0Q"
      },
      "outputs": [],
      "source": [
        "# Plotting the training errors\n",
        "def plot_error(train_loss,val_loss):\n",
        "    plt.plot(train_loss,c = 'r')\n",
        "    plt.plot(val_loss,c = 'b')\n",
        "    plt.ylabel('Loss')\n",
        "    plt.legend(['train','val'],loc = 'upper right')\n",
        "    plt.show()"
      ]
    },
    {
      "cell_type": "markdown",
      "metadata": {
        "id": "YKmTpUf5mINj"
      },
      "source": [
        "### Model Building"
      ]
    },
    {
      "cell_type": "code",
      "execution_count": 11,
      "metadata": {
        "colab": {
          "base_uri": "https://localhost:8080/"
        },
        "id": "gAvOMIyjIQO-",
        "outputId": "942f5c35-3804-44ce-9048-3abb9e45c535"
      },
      "outputs": [
        {
          "output_type": "stream",
          "name": "stdout",
          "text": [
            "(356, 3)\n",
            "               Close      High      Volume\n",
            "Date                                      \n",
            "2024-03-08  2.139361  2.276319  1030337086\n",
            "2024-03-09  2.099060  2.166837   514955855\n",
            "2024-03-10  2.068196  2.128248   614574685\n",
            "2024-03-11  2.082959  2.140946   831217688\n",
            "2024-03-12  2.017470  2.096739   762310480\n"
          ]
        }
      ],
      "source": [
        "# Extracting the series\n",
        "series = df[['Close','High','Volume']] # Picking the series with high correlation\n",
        "print(series.shape)\n",
        "print(series.tail())"
      ]
    },
    {
      "cell_type": "code",
      "execution_count": 21,
      "metadata": {
        "colab": {
          "base_uri": "https://localhost:8080/"
        },
        "id": "Tjso-RjNDmbs",
        "outputId": "c3879347-fff8-4474-e9d0-e07327b40ba0"
      },
      "outputs": [
        {
          "output_type": "stream",
          "name": "stdout",
          "text": [
            "(284, 3) (59, 3) (72, 3)\n"
          ]
        }
      ],
      "source": [
        "# Train Val Test Split\n",
        "train_start = dt.date(2023,1,1)\n",
        "train_end = dt.date(2023,12,31)\n",
        "train_data = series.loc[train_start:train_end]\n",
        "\n",
        "val_start = dt.date(2024,1,1)\n",
        "val_end = dt.date(2024,2,28)\n",
        "val_data = series.loc[val_start:val_end]\n",
        "\n",
        "test_start = dt.date(2024,1,1)\n",
        "test_end = dt.date(2024,3,12)\n",
        "test_data = series.loc[test_start:test_end]\n",
        "\n",
        "print(train_data.shape,val_data.shape,test_data.shape)"
      ]
    },
    {
      "cell_type": "code",
      "execution_count": 23,
      "metadata": {
        "colab": {
          "base_uri": "https://localhost:8080/"
        },
        "id": "NWXR5oL2ZnY4",
        "outputId": "0b97be7a-199d-4568-8a07-c3b27f8a352f"
      },
      "outputs": [
        {
          "output_type": "stream",
          "name": "stdout",
          "text": [
            "(284, 3) (59, 3) (72, 3)\n"
          ]
        }
      ],
      "source": [
        "# Normalisation\n",
        "sc = MinMaxScaler()\n",
        "train = sc.fit_transform(train_data)\n",
        "val = sc.transform(val_data)\n",
        "test = sc.transform(test_data)\n",
        "print(train.shape,val.shape,test.shape)"
      ]
    },
    {
      "cell_type": "code",
      "execution_count": 16,
      "metadata": {
        "id": "0ReEucFKmINk"
      },
      "outputs": [],
      "source": [
        "timesteps = 50\n",
        "batch_size = 32\n",
        "num_epochs = 100"
      ]
    },
    {
      "cell_type": "code",
      "execution_count": 17,
      "metadata": {
        "colab": {
          "base_uri": "https://localhost:8080/",
          "height": 1000
        },
        "id": "o1hx1V8AmINk",
        "outputId": "0e6d91cf-5779-4217-f942-91a3588cd5c8"
      },
      "outputs": [
        {
          "output_type": "stream",
          "name": "stdout",
          "text": [
            "Epoch 1/100\n",
            "8/8 [==============================] - 12s 372ms/step - loss: 0.0722 - val_loss: 0.1908\n",
            "Epoch 2/100\n",
            "8/8 [==============================] - 1s 132ms/step - loss: 0.0395 - val_loss: 0.7873\n",
            "Epoch 3/100\n",
            "8/8 [==============================] - 1s 150ms/step - loss: 0.0253 - val_loss: 0.6112\n",
            "Epoch 4/100\n",
            "8/8 [==============================] - 1s 129ms/step - loss: 0.0255 - val_loss: 0.4525\n",
            "Epoch 5/100\n",
            "8/8 [==============================] - 1s 152ms/step - loss: 0.0238 - val_loss: 0.5555\n",
            "Epoch 6/100\n",
            "8/8 [==============================] - 1s 124ms/step - loss: 0.0187 - val_loss: 0.5162\n",
            "Epoch 7/100\n",
            "8/8 [==============================] - 1s 124ms/step - loss: 0.0191 - val_loss: 0.4239\n",
            "Epoch 8/100\n",
            "8/8 [==============================] - 1s 122ms/step - loss: 0.0181 - val_loss: 0.4220\n",
            "Epoch 9/100\n",
            "8/8 [==============================] - 2s 228ms/step - loss: 0.0150 - val_loss: 0.3380\n",
            "Epoch 10/100\n",
            "8/8 [==============================] - 1s 166ms/step - loss: 0.0143 - val_loss: 0.2792\n",
            "Epoch 11/100\n",
            "8/8 [==============================] - 1s 136ms/step - loss: 0.0130 - val_loss: 0.2301\n",
            "Epoch 12/100\n",
            "8/8 [==============================] - 1s 139ms/step - loss: 0.0130 - val_loss: 0.2310\n",
            "Epoch 13/100\n",
            "8/8 [==============================] - 1s 138ms/step - loss: 0.0128 - val_loss: 0.2345\n",
            "Epoch 14/100\n",
            "8/8 [==============================] - 1s 150ms/step - loss: 0.0128 - val_loss: 0.2287\n",
            "Epoch 15/100\n",
            "8/8 [==============================] - 1s 138ms/step - loss: 0.0129 - val_loss: 0.2098\n",
            "Epoch 16/100\n",
            "8/8 [==============================] - 1s 133ms/step - loss: 0.0126 - val_loss: 0.1965\n",
            "Epoch 17/100\n",
            "8/8 [==============================] - 1s 138ms/step - loss: 0.0124 - val_loss: 0.1885\n",
            "Epoch 18/100\n",
            "8/8 [==============================] - 1s 140ms/step - loss: 0.0122 - val_loss: 0.1832\n",
            "Epoch 19/100\n",
            "8/8 [==============================] - 2s 204ms/step - loss: 0.0121 - val_loss: 0.1767\n",
            "Epoch 20/100\n",
            "8/8 [==============================] - 2s 243ms/step - loss: 0.0120 - val_loss: 0.1704\n",
            "Epoch 21/100\n",
            "8/8 [==============================] - 1s 135ms/step - loss: 0.0120 - val_loss: 0.1640\n",
            "Epoch 22/100\n",
            "8/8 [==============================] - 1s 124ms/step - loss: 0.0119 - val_loss: 0.1587\n",
            "Epoch 23/100\n",
            "8/8 [==============================] - 1s 122ms/step - loss: 0.0118 - val_loss: 0.1533\n",
            "Epoch 24/100\n",
            "8/8 [==============================] - 1s 124ms/step - loss: 0.0117 - val_loss: 0.1482\n",
            "Epoch 25/100\n",
            "8/8 [==============================] - 1s 122ms/step - loss: 0.0117 - val_loss: 0.1428\n",
            "Epoch 26/100\n",
            "8/8 [==============================] - 1s 138ms/step - loss: 0.0116 - val_loss: 0.1376\n",
            "Epoch 27/100\n",
            "8/8 [==============================] - 1s 134ms/step - loss: 0.0115 - val_loss: 0.1322\n",
            "Epoch 28/100\n",
            "8/8 [==============================] - 1s 125ms/step - loss: 0.0114 - val_loss: 0.1269\n",
            "Epoch 29/100\n",
            "8/8 [==============================] - 1s 121ms/step - loss: 0.0113 - val_loss: 0.1214\n",
            "Epoch 30/100\n",
            "8/8 [==============================] - 1s 173ms/step - loss: 0.0113 - val_loss: 0.1158\n",
            "Epoch 31/100\n",
            "8/8 [==============================] - 2s 225ms/step - loss: 0.0112 - val_loss: 0.1099\n",
            "Epoch 32/100\n",
            "8/8 [==============================] - 1s 146ms/step - loss: 0.0111 - val_loss: 0.1039\n",
            "Epoch 33/100\n",
            "8/8 [==============================] - 1s 132ms/step - loss: 0.0110 - val_loss: 0.0976\n",
            "Epoch 34/100\n",
            "8/8 [==============================] - 1s 141ms/step - loss: 0.0109 - val_loss: 0.0910\n",
            "Epoch 35/100\n",
            "8/8 [==============================] - 1s 131ms/step - loss: 0.0109 - val_loss: 0.0839\n",
            "Epoch 36/100\n",
            "8/8 [==============================] - 1s 129ms/step - loss: 0.0108 - val_loss: 0.0764\n",
            "Epoch 37/100\n",
            "8/8 [==============================] - 1s 152ms/step - loss: 0.0107 - val_loss: 0.0685\n",
            "Epoch 38/100\n",
            "8/8 [==============================] - 1s 130ms/step - loss: 0.0106 - val_loss: 0.0602\n",
            "Epoch 39/100\n",
            "8/8 [==============================] - 1s 134ms/step - loss: 0.0105 - val_loss: 0.0517\n",
            "Epoch 40/100\n",
            "8/8 [==============================] - 1s 148ms/step - loss: 0.0104 - val_loss: 0.0437\n",
            "Epoch 41/100\n",
            "8/8 [==============================] - 2s 250ms/step - loss: 0.0103 - val_loss: 0.0367\n",
            "Epoch 42/100\n",
            "8/8 [==============================] - 2s 180ms/step - loss: 0.0102 - val_loss: 0.0313\n",
            "Epoch 43/100\n",
            "8/8 [==============================] - 1s 128ms/step - loss: 0.0100 - val_loss: 0.0284\n",
            "Epoch 44/100\n",
            "8/8 [==============================] - 1s 128ms/step - loss: 0.0099 - val_loss: 0.0227\n",
            "Epoch 45/100\n",
            "8/8 [==============================] - 1s 125ms/step - loss: 0.0098 - val_loss: 0.0718\n",
            "Epoch 46/100\n",
            "8/8 [==============================] - 1s 126ms/step - loss: 0.0107 - val_loss: 0.0183\n",
            "Epoch 47/100\n",
            "8/8 [==============================] - 1s 126ms/step - loss: 0.0232 - val_loss: 0.3474\n",
            "Epoch 48/100\n",
            "8/8 [==============================] - 1s 125ms/step - loss: 0.0243 - val_loss: 0.4728\n",
            "Epoch 49/100\n",
            "8/8 [==============================] - 1s 132ms/step - loss: 0.0128 - val_loss: 0.1795\n",
            "Epoch 50/100\n",
            "8/8 [==============================] - 1s 155ms/step - loss: 0.0135 - val_loss: 0.2283\n",
            "Epoch 51/100\n",
            "8/8 [==============================] - 1s 144ms/step - loss: 0.0097 - val_loss: 0.1158\n",
            "Epoch 52/100\n",
            "8/8 [==============================] - 2s 228ms/step - loss: 0.0103 - val_loss: 0.1150\n",
            "Epoch 53/100\n",
            "8/8 [==============================] - 2s 184ms/step - loss: 0.0101 - val_loss: 0.0983\n",
            "Epoch 54/100\n",
            "8/8 [==============================] - 1s 143ms/step - loss: 0.0100 - val_loss: 0.1139\n",
            "Epoch 55/100\n",
            "8/8 [==============================] - 1s 132ms/step - loss: 0.0099 - val_loss: 0.1143\n",
            "Epoch 56/100\n",
            "8/8 [==============================] - 1s 133ms/step - loss: 0.0097 - val_loss: 0.1192\n",
            "Epoch 57/100\n",
            "8/8 [==============================] - 1s 142ms/step - loss: 0.0098 - val_loss: 0.1108\n",
            "Epoch 58/100\n",
            "8/8 [==============================] - 1s 134ms/step - loss: 0.0096 - val_loss: 0.1109\n",
            "Epoch 59/100\n",
            "8/8 [==============================] - 1s 136ms/step - loss: 0.0097 - val_loss: 0.1030\n",
            "Epoch 60/100\n",
            "8/8 [==============================] - 1s 146ms/step - loss: 0.0095 - val_loss: 0.1055\n",
            "Epoch 61/100\n",
            "8/8 [==============================] - 1s 142ms/step - loss: 0.0097 - val_loss: 0.0992\n",
            "Epoch 62/100\n",
            "8/8 [==============================] - 1s 180ms/step - loss: 0.0094 - val_loss: 0.1026\n",
            "Epoch 63/100\n",
            "8/8 [==============================] - 2s 238ms/step - loss: 0.0096 - val_loss: 0.0959\n",
            "Epoch 64/100\n",
            "8/8 [==============================] - 1s 122ms/step - loss: 0.0093 - val_loss: 0.0994\n",
            "Epoch 65/100\n",
            "8/8 [==============================] - 1s 125ms/step - loss: 0.0095 - val_loss: 0.0922\n",
            "Epoch 66/100\n",
            "8/8 [==============================] - 1s 125ms/step - loss: 0.0092 - val_loss: 0.0962\n",
            "Epoch 67/100\n",
            "8/8 [==============================] - 1s 135ms/step - loss: 0.0094 - val_loss: 0.0886\n",
            "Epoch 68/100\n",
            "8/8 [==============================] - 1s 125ms/step - loss: 0.0091 - val_loss: 0.0934\n",
            "Epoch 69/100\n",
            "8/8 [==============================] - 1s 127ms/step - loss: 0.0094 - val_loss: 0.0853\n",
            "Epoch 70/100\n",
            "8/8 [==============================] - 1s 140ms/step - loss: 0.0090 - val_loss: 0.0908\n",
            "Epoch 71/100\n",
            "8/8 [==============================] - 1s 132ms/step - loss: 0.0093 - val_loss: 0.0821\n",
            "Epoch 72/100\n",
            "8/8 [==============================] - 1s 133ms/step - loss: 0.0089 - val_loss: 0.0884\n",
            "Epoch 73/100\n",
            "8/8 [==============================] - 1s 176ms/step - loss: 0.0093 - val_loss: 0.0789\n",
            "Epoch 74/100\n",
            "8/8 [==============================] - 2s 230ms/step - loss: 0.0088 - val_loss: 0.0863\n",
            "Epoch 75/100\n",
            "8/8 [==============================] - 1s 137ms/step - loss: 0.0092 - val_loss: 0.0758\n",
            "Epoch 76/100\n",
            "8/8 [==============================] - 1s 138ms/step - loss: 0.0087 - val_loss: 0.0844\n",
            "Epoch 77/100\n",
            "8/8 [==============================] - 1s 147ms/step - loss: 0.0092 - val_loss: 0.0727\n",
            "Epoch 78/100\n",
            "8/8 [==============================] - 1s 127ms/step - loss: 0.0086 - val_loss: 0.0829\n",
            "Epoch 79/100\n",
            "8/8 [==============================] - 1s 139ms/step - loss: 0.0092 - val_loss: 0.0697\n",
            "Epoch 80/100\n",
            "8/8 [==============================] - 1s 126ms/step - loss: 0.0085 - val_loss: 0.0819\n",
            "Epoch 81/100\n",
            "8/8 [==============================] - 2s 217ms/step - loss: 0.0092 - val_loss: 0.0668\n",
            "Epoch 82/100\n",
            "8/8 [==============================] - 1s 147ms/step - loss: 0.0083 - val_loss: 0.0815\n",
            "Epoch 83/100\n",
            "8/8 [==============================] - 1s 192ms/step - loss: 0.0093 - val_loss: 0.0641\n",
            "Epoch 84/100\n",
            "8/8 [==============================] - 2s 241ms/step - loss: 0.0082 - val_loss: 0.0823\n",
            "Epoch 85/100\n",
            "8/8 [==============================] - 1s 134ms/step - loss: 0.0094 - val_loss: 0.0617\n",
            "Epoch 86/100\n",
            "8/8 [==============================] - 1s 126ms/step - loss: 0.0081 - val_loss: 0.0851\n",
            "Epoch 87/100\n",
            "8/8 [==============================] - 1s 128ms/step - loss: 0.0095 - val_loss: 0.0596\n",
            "Epoch 88/100\n",
            "8/8 [==============================] - 1s 136ms/step - loss: 0.0080 - val_loss: 0.0910\n",
            "Epoch 89/100\n",
            "8/8 [==============================] - 1s 131ms/step - loss: 0.0098 - val_loss: 0.0575\n",
            "Epoch 90/100\n",
            "8/8 [==============================] - 1s 131ms/step - loss: 0.0080 - val_loss: 0.1020\n",
            "Epoch 91/100\n",
            "8/8 [==============================] - 1s 130ms/step - loss: 0.0100 - val_loss: 0.0554\n",
            "Epoch 92/100\n",
            "8/8 [==============================] - 1s 136ms/step - loss: 0.0081 - val_loss: 0.1185\n",
            "Epoch 93/100\n",
            "8/8 [==============================] - 1s 158ms/step - loss: 0.0102 - val_loss: 0.0535\n",
            "Epoch 94/100\n",
            "8/8 [==============================] - 2s 237ms/step - loss: 0.0081 - val_loss: 0.1347\n",
            "Epoch 95/100\n",
            "8/8 [==============================] - 2s 196ms/step - loss: 0.0101 - val_loss: 0.0534\n",
            "Epoch 96/100\n",
            "8/8 [==============================] - 1s 127ms/step - loss: 0.0080 - val_loss: 0.1389\n",
            "Epoch 97/100\n",
            "8/8 [==============================] - 1s 129ms/step - loss: 0.0097 - val_loss: 0.0569\n",
            "Epoch 98/100\n",
            "8/8 [==============================] - 2s 197ms/step - loss: 0.0078 - val_loss: 0.1302\n",
            "Epoch 99/100\n",
            "8/8 [==============================] - 2s 209ms/step - loss: 0.0091 - val_loss: 0.0635\n",
            "Epoch 100/100\n",
            "8/8 [==============================] - 1s 133ms/step - loss: 0.0076 - val_loss: 0.1213\n"
          ]
        },
        {
          "output_type": "display_data",
          "data": {
            "text/plain": [
              "<Figure size 640x480 with 1 Axes>"
            ],
            "image/png": "[encoded data removed]"
          },
          "metadata": {}
        }
      ],
      "source": [
        "model,train_error,val_error = fit_model(train,val,timesteps,batch_size,num_epochs)\n",
        "plot_error(train_error,val_error)"
      ]
    },
    {
      "cell_type": "code",
      "execution_count": 25,
      "metadata": {
        "colab": {
          "base_uri": "https://localhost:8080/",
          "height": 546
        },
        "id": "LxskvMT8mINk",
        "outputId": "4680155b-2f74-4743-c6bd-348c659333bb"
      },
      "outputs": [
        {
          "output_type": "stream",
          "name": "stdout",
          "text": [
            "1/1 [==============================] - 0s 89ms/step\n",
            "MSE = 0.09969563482875836\n",
            "RMSE = 0.3157461556832614\n",
            "R-Squared Score = -7.7133540134845955\n"
          ]
        },
        {
          "output_type": "display_data",
          "data": {
            "text/plain": [
              "<Figure size 640x480 with 1 Axes>"
            ],
            "image/png": "[encoded data removed]"
          },
          "metadata": {}
        }
      ],
      "source": [
        "mse, rmse, r2_value,true,predicted = evaluate_model(model,test,timesteps)\n",
        "print('MSE = {}'.format(mse))\n",
        "print('RMSE = {}'.format(rmse))\n",
        "print('R-Squared Score = {}'.format(r2_value))\n",
        "plot_data(true,predicted)"
      ]
    },
    {
      "cell_type": "code",
      "execution_count": null,
      "metadata": {
        "colab": {
          "base_uri": "https://localhost:8080/"
        },
        "id": "5mJnzFIPCZnw",
        "outputId": "8c247687-bfa0-486d-a8fe-d2683d7f866c"
      },
      "outputs": [
        {
          "output_type": "stream",
          "name": "stderr",
          "text": [
            "/usr/local/lib/python3.10/dist-packages/keras/src/engine/training.py:3103: UserWarning: You are saving your model as an HDF5 file via `model.save()`. This file format is considered legacy. We recommend using instead the native Keras format, e.g. `model.save('my_model.keras')`.\n",
            "  saving_api.save_model(\n"
          ]
        }
      ],
      "source": [
        "# Save a model\n",
        "model.save('MV3-LSTM_50_[40,35]_1e-3_64.h5')\n",
        "#del model # Deletes the model\n",
        "# Load a model\n",
        "model = load_model('MV3-LSTM_50_[40,35]_1e-3_64.h5')"
      ]
    },
    {
      "cell_type": "markdown",
      "metadata": {
        "id": "eT6LHVXCmINl"
      },
      "source": [
        "## Cross-Validation"
      ]
    },
    {
      "cell_type": "code",
      "execution_count": null,
      "metadata": {
        "id": "2OhRCZsfmINl"
      },
      "outputs": [],
      "source": [
        "# Hyperparameters\n",
        "timesteps = 50\n",
        "batch_size = 32\n",
        "num_epochs = 50"
      ]
    },
    {
      "cell_type": "code",
      "execution_count": null,
      "metadata": {
        "colab": {
          "base_uri": "https://localhost:8080/"
        },
        "id": "OixhQ1fimINl",
        "outputId": "62a19eb4-b842-46e3-c786-0e6014c98e43"
      },
      "outputs": [
        {
          "output_type": "stream",
          "name": "stdout",
          "text": [
            "(2316, 3)\n",
            "                Close       High      Volume\n",
            "Date                                        \n",
            "2024-03-08  19.741352  20.390388   590191572\n",
            "2024-03-09  20.028526  20.343550   414335240\n",
            "2024-03-10  21.754612  21.943203   696612444\n",
            "2024-03-11  21.289614  22.825249  1265727284\n",
            "2024-03-12  20.666775  21.323486   824857503\n"
          ]
        }
      ],
      "source": [
        "# Extracting the series\n",
        "series = df[['Close','High','Volume']] # Picking the multivariate series\n",
        "print(series.shape)\n",
        "print(series.tail())"
      ]
    },
    {
      "cell_type": "code",
      "execution_count": null,
      "metadata": {
        "colab": {
          "base_uri": "https://localhost:8080/"
        },
        "id": "x6E-eaE-mINl",
        "outputId": "3e5285c9-e9c2-4687-e3c4-31730f9f9a56"
      },
      "outputs": [
        {
          "output_type": "execute_result",
          "data": {
            "text/plain": [
              "array([[1.51217665e-03, 1.55473939e-03, 1.72920879e-05],\n",
              "       [8.13529291e-04, 1.23311030e-03, 1.01242913e-05],\n",
              "       [6.63068429e-04, 5.95790555e-04, 1.07899068e-05],\n",
              "       ...,\n",
              "       [4.15137914e-01, 4.13147427e-01, 4.08219325e-03],\n",
              "       [4.06204821e-01, 4.29881425e-01, 7.41915266e-03],\n",
              "       [3.94239445e-01, 4.01390285e-01, 4.83414791e-03]])"
            ]
          },
          "metadata": {},
          "execution_count": 60
        }
      ],
      "source": [
        "# Normalisation\n",
        "sc = MinMaxScaler()\n",
        "series = sc.fit_transform(series[:5400])\n",
        "series"
      ]
    },
    {
      "cell_type": "markdown",
      "metadata": {
        "id": "_j9zGzzgmINl"
      },
      "source": [
        "### Split I"
      ]
    },
    {
      "cell_type": "code",
      "execution_count": null,
      "metadata": {
        "id": "79-iY0FhmINl"
      },
      "outputs": [],
      "source": [
        "#Splitting the data for initial model creation\n",
        "splits = 5\n",
        "split_size = 600\n",
        "train = series[:3*split_size]\n",
        "test = series[3*split_size:4*split_size]"
      ]
    },
    {
      "cell_type": "code",
      "execution_count": null,
      "metadata": {
        "colab": {
          "base_uri": "https://localhost:8080/",
          "height": 211
        },
        "id": "3Ed5n92lmINm",
        "outputId": "4d7c2ea3-fdd5-4461-8b60-4111fdd41e7e"
      },
      "outputs": [
        {
          "output_type": "error",
          "ename": "TypeError",
          "evalue": "fit_model() missing 1 required positional argument: 'epochs'",
          "traceback": [
            "\u001b[0;31m---------------------------------------------------------------------------\u001b[0m",
            "\u001b[0;31mTypeError\u001b[0m                                 Traceback (most recent call last)",
            "\u001b[0;32m<ipython-input-62-b6278f459b90>\u001b[0m in \u001b[0;36m<cell line: 4>\u001b[0;34m()\u001b[0m\n\u001b[1;32m      2\u001b[0m \u001b[0mtrain_loss\u001b[0m \u001b[0;34m=\u001b[0m \u001b[0mpd\u001b[0m\u001b[0;34m.\u001b[0m\u001b[0mDataFrame\u001b[0m\u001b[0;34m(\u001b[0m\u001b[0;34m)\u001b[0m\u001b[0;34m\u001b[0m\u001b[0;34m\u001b[0m\u001b[0m\n\u001b[1;32m      3\u001b[0m \u001b[0mval_loss\u001b[0m \u001b[0;34m=\u001b[0m \u001b[0mpd\u001b[0m\u001b[0;34m.\u001b[0m\u001b[0mDataFrame\u001b[0m\u001b[0;34m(\u001b[0m\u001b[0;34m)\u001b[0m\u001b[0;34m\u001b[0m\u001b[0;34m\u001b[0m\u001b[0m\n\u001b[0;32m----> 4\u001b[0;31m \u001b[0mmodel\u001b[0m\u001b[0;34m,\u001b[0m\u001b[0mtrain_error\u001b[0m\u001b[0;34m,\u001b[0m\u001b[0mval_error\u001b[0m \u001b[0;34m=\u001b[0m \u001b[0mfit_model\u001b[0m\u001b[0;34m(\u001b[0m\u001b[0mtrain\u001b[0m\u001b[0;34m,\u001b[0m\u001b[0mtimesteps\u001b[0m\u001b[0;34m,\u001b[0m\u001b[0mbatch_size\u001b[0m\u001b[0;34m,\u001b[0m\u001b[0mnum_epochs\u001b[0m\u001b[0;34m)\u001b[0m\u001b[0;34m\u001b[0m\u001b[0;34m\u001b[0m\u001b[0m\n\u001b[0m\u001b[1;32m      5\u001b[0m \u001b[0mtrain_loss\u001b[0m\u001b[0;34m[\u001b[0m\u001b[0;34m'Split1'\u001b[0m\u001b[0;34m]\u001b[0m \u001b[0;34m=\u001b[0m \u001b[0mtrain_error\u001b[0m\u001b[0;34m\u001b[0m\u001b[0;34m\u001b[0m\u001b[0m\n\u001b[1;32m      6\u001b[0m \u001b[0mval_loss\u001b[0m\u001b[0;34m[\u001b[0m\u001b[0;34m'Split1'\u001b[0m\u001b[0;34m]\u001b[0m \u001b[0;34m=\u001b[0m \u001b[0mval_error\u001b[0m\u001b[0;34m\u001b[0m\u001b[0;34m\u001b[0m\u001b[0m\n",
            "\u001b[0;31mTypeError\u001b[0m: fit_model() missing 1 required positional argument: 'epochs'"
          ]
        }
      ],
      "source": [
        "cross_val_results = list()\n",
        "train_loss = pd.DataFrame()\n",
        "val_loss = pd.DataFrame()\n",
        "model,train_error,val_error = fit_model(train,timesteps,batch_size,num_epochs)\n",
        "train_loss['Split1'] = train_error\n",
        "val_loss['Split1'] = val_error\n",
        "mse, rmse, r2_value,true,predicted = evaluate_model(model,test,timesteps)\n",
        "print(\"Split 1\")\n",
        "print('MSE = {}'.format(mse))\n",
        "print('RMSE = {}'.format(rmse))\n",
        "print('R-Squared Score = {}'.format(r2_value))\n",
        "plot_data(true,predicted)\n",
        "cross_val_results.append([mse,rmse,r2_value,0])\n",
        "model.save(\"MV3-LSTM-Split1.h5\")"
      ]
    },
    {
      "cell_type": "markdown",
      "metadata": {
        "id": "4T51kFgDmINm"
      },
      "source": [
        "### Split II"
      ]
    },
    {
      "cell_type": "code",
      "execution_count": null,
      "metadata": {
        "colab": {
          "base_uri": "https://localhost:8080/",
          "height": 617
        },
        "id": "HSh0sThfmINm",
        "outputId": "4d2ce103-f9f1-469b-a096-b6b9a1373418"
      },
      "outputs": [
        {
          "output_type": "error",
          "ename": "ValueError",
          "evalue": "Expected input data to be non-empty.",
          "traceback": [
            "\u001b[0;31m---------------------------------------------------------------------------\u001b[0m",
            "\u001b[0;31mValueError\u001b[0m                                Traceback (most recent call last)",
            "\u001b[0;32m<ipython-input-63-cf4d08bf3595>\u001b[0m in \u001b[0;36m<cell line: 16>\u001b[0;34m()\u001b[0m\n\u001b[1;32m     14\u001b[0m \u001b[0mtrain_loss\u001b[0m\u001b[0;34m[\u001b[0m\u001b[0;34m\"Split2\"\u001b[0m\u001b[0;34m]\u001b[0m \u001b[0;34m=\u001b[0m \u001b[0mhistory\u001b[0m\u001b[0;34m.\u001b[0m\u001b[0mhistory\u001b[0m\u001b[0;34m[\u001b[0m\u001b[0;34m'loss'\u001b[0m\u001b[0;34m]\u001b[0m\u001b[0;34m\u001b[0m\u001b[0;34m\u001b[0m\u001b[0m\n\u001b[1;32m     15\u001b[0m \u001b[0mval_loss\u001b[0m\u001b[0;34m[\u001b[0m\u001b[0;34m\"Split2\"\u001b[0m\u001b[0;34m]\u001b[0m \u001b[0;34m=\u001b[0m \u001b[0mhistory\u001b[0m\u001b[0;34m.\u001b[0m\u001b[0mhistory\u001b[0m\u001b[0;34m[\u001b[0m\u001b[0;34m'val_loss'\u001b[0m\u001b[0;34m]\u001b[0m\u001b[0;34m\u001b[0m\u001b[0;34m\u001b[0m\u001b[0m\n\u001b[0;32m---> 16\u001b[0;31m \u001b[0mmse\u001b[0m\u001b[0;34m,\u001b[0m \u001b[0mrmse\u001b[0m\u001b[0;34m,\u001b[0m \u001b[0mr2_value\u001b[0m\u001b[0;34m,\u001b[0m\u001b[0mtrue\u001b[0m\u001b[0;34m,\u001b[0m\u001b[0mpredicted\u001b[0m \u001b[0;34m=\u001b[0m \u001b[0mevaluate_model\u001b[0m\u001b[0;34m(\u001b[0m\u001b[0mmodel\u001b[0m\u001b[0;34m,\u001b[0m\u001b[0mtest\u001b[0m\u001b[0;34m,\u001b[0m\u001b[0mtimesteps\u001b[0m\u001b[0;34m)\u001b[0m\u001b[0;34m\u001b[0m\u001b[0;34m\u001b[0m\u001b[0m\n\u001b[0m\u001b[1;32m     17\u001b[0m \u001b[0mprint\u001b[0m\u001b[0;34m(\u001b[0m\u001b[0;34m\"Split 2\"\u001b[0m\u001b[0;34m)\u001b[0m\u001b[0;34m\u001b[0m\u001b[0;34m\u001b[0m\u001b[0m\n\u001b[1;32m     18\u001b[0m \u001b[0mprint\u001b[0m\u001b[0;34m(\u001b[0m\u001b[0;34m'MSE = {}'\u001b[0m\u001b[0;34m.\u001b[0m\u001b[0mformat\u001b[0m\u001b[0;34m(\u001b[0m\u001b[0mmse\u001b[0m\u001b[0;34m)\u001b[0m\u001b[0;34m)\u001b[0m\u001b[0;34m\u001b[0m\u001b[0;34m\u001b[0m\u001b[0m\n",
            "\u001b[0;32m<ipython-input-41-9f8afb3fa413>\u001b[0m in \u001b[0;36mevaluate_model\u001b[0;34m(model, test, timesteps)\u001b[0m\n\u001b[1;32m     12\u001b[0m \u001b[0;34m\u001b[0m\u001b[0m\n\u001b[1;32m     13\u001b[0m     \u001b[0;31m# Prediction Time !!!!\u001b[0m\u001b[0;34m\u001b[0m\u001b[0;34m\u001b[0m\u001b[0m\n\u001b[0;32m---> 14\u001b[0;31m     \u001b[0mY_hat\u001b[0m \u001b[0;34m=\u001b[0m \u001b[0mmodel\u001b[0m\u001b[0;34m.\u001b[0m\u001b[0mpredict\u001b[0m\u001b[0;34m(\u001b[0m\u001b[0mX_test\u001b[0m\u001b[0;34m)\u001b[0m\u001b[0;34m\u001b[0m\u001b[0;34m\u001b[0m\u001b[0m\n\u001b[0m\u001b[1;32m     15\u001b[0m     \u001b[0mmse\u001b[0m \u001b[0;34m=\u001b[0m \u001b[0mmean_squared_error\u001b[0m\u001b[0;34m(\u001b[0m\u001b[0mY_test\u001b[0m\u001b[0;34m,\u001b[0m\u001b[0mY_hat\u001b[0m\u001b[0;34m)\u001b[0m\u001b[0;34m\u001b[0m\u001b[0;34m\u001b[0m\u001b[0m\n\u001b[1;32m     16\u001b[0m     \u001b[0mrmse\u001b[0m \u001b[0;34m=\u001b[0m \u001b[0msqrt\u001b[0m\u001b[0;34m(\u001b[0m\u001b[0mmse\u001b[0m\u001b[0;34m)\u001b[0m\u001b[0;34m\u001b[0m\u001b[0;34m\u001b[0m\u001b[0m\n",
            "\u001b[0;32m/usr/local/lib/python3.10/dist-packages/keras/src/utils/traceback_utils.py\u001b[0m in \u001b[0;36merror_handler\u001b[0;34m(*args, **kwargs)\u001b[0m\n\u001b[1;32m     68\u001b[0m             \u001b[0;31m# To get the full stack trace, call:\u001b[0m\u001b[0;34m\u001b[0m\u001b[0;34m\u001b[0m\u001b[0m\n\u001b[1;32m     69\u001b[0m             \u001b[0;31m# `tf.debugging.disable_traceback_filtering()`\u001b[0m\u001b[0;34m\u001b[0m\u001b[0;34m\u001b[0m\u001b[0m\n\u001b[0;32m---> 70\u001b[0;31m             \u001b[0;32mraise\u001b[0m \u001b[0me\u001b[0m\u001b[0;34m.\u001b[0m\u001b[0mwith_traceback\u001b[0m\u001b[0;34m(\u001b[0m\u001b[0mfiltered_tb\u001b[0m\u001b[0;34m)\u001b[0m \u001b[0;32mfrom\u001b[0m \u001b[0;32mNone\u001b[0m\u001b[0;34m\u001b[0m\u001b[0;34m\u001b[0m\u001b[0m\n\u001b[0m\u001b[1;32m     71\u001b[0m         \u001b[0;32mfinally\u001b[0m\u001b[0;34m:\u001b[0m\u001b[0;34m\u001b[0m\u001b[0;34m\u001b[0m\u001b[0m\n\u001b[1;32m     72\u001b[0m             \u001b[0;32mdel\u001b[0m \u001b[0mfiltered_tb\u001b[0m\u001b[0;34m\u001b[0m\u001b[0;34m\u001b[0m\u001b[0m\n",
            "\u001b[0;32m/usr/local/lib/python3.10/dist-packages/keras/src/engine/data_adapter.py\u001b[0m in \u001b[0;36m__init__\u001b[0;34m(self, x, y, sample_weight, batch_size, steps_per_epoch, initial_epoch, epochs, shuffle, class_weight, max_queue_size, workers, use_multiprocessing, model, steps_per_execution, distribute, pss_evaluation_shards)\u001b[0m\n\u001b[1;32m   1317\u001b[0m \u001b[0;34m\u001b[0m\u001b[0m\n\u001b[1;32m   1318\u001b[0m         \u001b[0;32mif\u001b[0m \u001b[0mself\u001b[0m\u001b[0;34m.\u001b[0m\u001b[0m_inferred_steps\u001b[0m \u001b[0;34m==\u001b[0m \u001b[0;36m0\u001b[0m\u001b[0;34m:\u001b[0m\u001b[0;34m\u001b[0m\u001b[0;34m\u001b[0m\u001b[0m\n\u001b[0;32m-> 1319\u001b[0;31m             \u001b[0;32mraise\u001b[0m \u001b[0mValueError\u001b[0m\u001b[0;34m(\u001b[0m\u001b[0;34m\"Expected input data to be non-empty.\"\u001b[0m\u001b[0;34m)\u001b[0m\u001b[0;34m\u001b[0m\u001b[0;34m\u001b[0m\u001b[0m\n\u001b[0m\u001b[1;32m   1320\u001b[0m \u001b[0;34m\u001b[0m\u001b[0m\n\u001b[1;32m   1321\u001b[0m     def _configure_dataset_and_inferred_steps(\n",
            "\u001b[0;31mValueError\u001b[0m: Expected input data to be non-empty."
          ]
        }
      ],
      "source": [
        "\n",
        "train = series[:4*split_size]\n",
        "test = series[4*split_size:5*split_size]\n",
        "X_train,Y_train = [],[]\n",
        "# Loop for training data\n",
        "for i in range(timesteps,train.shape[0]):\n",
        "    X_train.append(train[i-timesteps:i])\n",
        "    Y_train.append(train[i][0])\n",
        "X_train,Y_train = np.array(X_train),np.array(Y_train)\n",
        "\n",
        "start = time.time()\n",
        "history = model.fit(X_train,Y_train,epochs = num_epochs,batch_size = batch_size,validation_split = 0.2,verbose = 0,\n",
        "                    shuffle = False)\n",
        "end = time.time()\n",
        "train_loss[\"Split2\"] = history.history['loss']\n",
        "val_loss[\"Split2\"] = history.history['val_loss']\n",
        "mse, rmse, r2_value,true,predicted = evaluate_model(model,test,timesteps)\n",
        "print(\"Split 2\")\n",
        "print('MSE = {}'.format(mse))\n",
        "print('RMSE = {}'.format(rmse))\n",
        "print('R-Squared Score = {}'.format(r2_value))\n",
        "plot_data(true,predicted)\n",
        "cross_val_results.append([mse,rmse,r2_value,end-start])\n",
        "model.save(\"MV3-LSTM-Split2.h5\")"
      ]
    },
    {
      "cell_type": "markdown",
      "metadata": {
        "id": "XwG5tTc3mINm"
      },
      "source": [
        "### Split III"
      ]
    },
    {
      "cell_type": "code",
      "execution_count": null,
      "metadata": {
        "id": "aJLDqsOqmINm"
      },
      "outputs": [],
      "source": [
        "train = series[:5*split_size]\n",
        "test = series[5*split_size:6*split_size]\n",
        "X_train,Y_train = [],[]\n",
        "# Loop for training data\n",
        "for i in range(timesteps,train.shape[0]):\n",
        "    X_train.append(train[i-timesteps:i])\n",
        "    Y_train.append(train[i][0])\n",
        "X_train,Y_train = np.array(X_train),np.array(Y_train)\n",
        "\n",
        "start = time.time()\n",
        "history = model.fit(X_train,Y_train,epochs = num_epochs,batch_size = batch_size,validation_split = 0.2,verbose = 0,\n",
        "                    shuffle = False)\n",
        "end = time.time()\n",
        "train_loss[\"Split3\"] = history.history['loss']\n",
        "val_loss[\"Split3\"] = history.history['val_loss']\n",
        "mse, rmse, r2_value,true,predicted = evaluate_model(model,test,timesteps)\n",
        "print(\"Split 3\")\n",
        "print('MSE = {}'.format(mse))\n",
        "print('RMSE = {}'.format(rmse))\n",
        "print('R-Squared Score = {}'.format(r2_value))\n",
        "plot_data(true,predicted)\n",
        "cross_val_results.append([mse,rmse,r2_value,end-start])\n",
        "model.save(\"MV3-LSTM-Split3.h5\")"
      ]
    },
    {
      "cell_type": "markdown",
      "metadata": {
        "id": "V4JICyOImINm"
      },
      "source": [
        "### Split IV"
      ]
    },
    {
      "cell_type": "code",
      "execution_count": null,
      "metadata": {
        "id": "PzlHTh_FmINn"
      },
      "outputs": [],
      "source": [
        "train = series[:6*split_size]\n",
        "test = series[6*split_size:7*split_size]\n",
        "X_train,Y_train = [],[]\n",
        "# Loop for training data\n",
        "for i in range(timesteps,train.shape[0]):\n",
        "    X_train.append(train[i-timesteps:i])\n",
        "    Y_train.append(train[i][0])\n",
        "X_train,Y_train = np.array(X_train),np.array(Y_train)\n",
        "\n",
        "start = time.time()\n",
        "history = model.fit(X_train,Y_train,epochs = num_epochs,batch_size = batch_size,validation_split = 0.2,verbose = 0,\n",
        "                    shuffle = False)\n",
        "end = time.time()\n",
        "train_loss[\"Split4\"] = history.history['loss']\n",
        "val_loss[\"Split4\"] = history.history['val_loss']\n",
        "mse, rmse, r2_value,true,predicted = evaluate_model(model,test,timesteps)\n",
        "print(\"Split 4\")\n",
        "print('MSE = {}'.format(mse))\n",
        "print('RMSE = {}'.format(rmse))\n",
        "print('R-Squared Score = {}'.format(r2_value))\n",
        "plot_data(true,predicted)\n",
        "cross_val_results.append([mse,rmse,r2_value,end-start])\n",
        "model.save(\"MV3-LSTM-Split4.h5\")"
      ]
    },
    {
      "cell_type": "markdown",
      "metadata": {
        "id": "BCz7FF68mINn"
      },
      "source": [
        "### Split V"
      ]
    },
    {
      "cell_type": "code",
      "execution_count": null,
      "metadata": {
        "id": "hgeXIdOqmINn"
      },
      "outputs": [],
      "source": [
        "train = series[:7*split_size]\n",
        "test = series[7*split_size:8*split_size]\n",
        "X_train,Y_train = [],[]\n",
        "# Loop for training data\n",
        "for i in range(timesteps,train.shape[0]):\n",
        "    X_train.append(train[i-timesteps:i])\n",
        "    Y_train.append(train[i][0])\n",
        "X_train,Y_train = np.array(X_train),np.array(Y_train)\n",
        "\n",
        "start = time.time()\n",
        "history = model.fit(X_train,Y_train,epochs = num_epochs,batch_size = batch_size,validation_split = 0.2,verbose = 0,\n",
        "                    shuffle = False)\n",
        "end = time.time()\n",
        "train_loss[\"Split5\"] = history.history['loss']\n",
        "val_loss[\"Split5\"] = history.history['val_loss']\n",
        "mse, rmse, r2_value,true,predicted = evaluate_model(model,test,timesteps)\n",
        "print(\"Split 5\")\n",
        "print('MSE = {}'.format(mse))\n",
        "print('RMSE = {}'.format(rmse))\n",
        "print('R-Squared Score = {}'.format(r2_value))\n",
        "plot_data(true,predicted)\n",
        "cross_val_results.append([mse,rmse,r2_value,end-start])\n",
        "model.save(\"MV3-LSTM-Split5.h5\")"
      ]
    },
    {
      "cell_type": "code",
      "execution_count": null,
      "metadata": {
        "id": "o00ZXyF5mINn"
      },
      "outputs": [],
      "source": [
        "CV_results = pd.DataFrame(cross_val_results,columns=['MSE','RMSE','R2_Score','Train_Time'])\n",
        "print(\"Avg. MSE = {}\".format(CV_results['MSE'].mean()))\n",
        "print(\"Avg. RMSE = {}\".format(CV_results['RMSE'].mean()))\n",
        "print(\"Avg. R2-score = {}\".format(CV_results['R2_Score'].mean()))"
      ]
    },
    {
      "cell_type": "code",
      "execution_count": null,
      "metadata": {
        "id": "PZd5dSvEmINo"
      },
      "outputs": [],
      "source": [
        "CV_results.to_csv('MV3-LSTM_CrossValidation.csv')\n",
        "train_loss.to_csv('MV3-LSTM_CrossValidation_TrainLoss.csv')\n",
        "val_loss.to_csv('MV3-LSTM_CrossValidation_ValLoss.csv')"
      ]
    }
  ],
  "metadata": {
    "accelerator": "TPU",
    "colab": {
      "provenance": []
    },
    "kernelspec": {
      "display_name": "Python [default]",
      "language": "python",
      "name": "python3"
    },
    "language_info": {
      "codemirror_mode": {
        "name": "ipython",
        "version": 3
      },
      "file_extension": ".py",
      "mimetype": "text/x-python",
      "name": "python",
      "nbconvert_exporter": "python",
      "pygments_lexer": "ipython3",
      "version": "3.6.8"
    }
  },
  "nbformat": 4,
  "nbformat_minor": 0
}